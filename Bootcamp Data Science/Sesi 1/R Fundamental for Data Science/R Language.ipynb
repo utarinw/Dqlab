{
 "cells": [
  {
   "attachments": {
    "OIP.jpg": {
     "image/jpeg": "[encoded data removed]"
    }
   },
   "cell_type": "markdown",
   "id": "d669a791",
   "metadata": {},
   "source": [
    "![OIP.jpg](attachment:OIP.jpg)"
   ]
  },
  {
   "cell_type": "markdown",
   "id": "9ac78706",
   "metadata": {},
   "source": [
    "R adalah nama sebuah bahasa pemrograman sekaligus software untuk pengolahan data dan grafik. R sangat popular saat ini karena memiliki jumlah fitur yang sangat besar - mencapai puluhan ribu fitur.\n",
    "\n",
    "Mulai dari membaca file teks, membaca database, menghasilkan berbagai grafik, menghasilkan dashboard yang menarik, sampai ke penggunaan machine learning - semuanya tersedia di R.\n",
    "\n",
    "Selain itu, R bersifat gratis dan open source. Artinya, dengan R kita tidak perlu biaya lisensi macam-macam untuk menggunakannya secara bebas dan luas."
   ]
  },
  {
   "cell_type": "markdown",
   "id": "c96ad2b3",
   "metadata": {},
   "source": [
    "# Data Science dan R"
   ]
  },
  {
   "cell_type": "markdown",
   "id": "852a335a",
   "metadata": {},
   "source": [
    "Data Science dan R tidak dapat dipisahkan satu sama lain. Hal ini dibuktiknya dengan berkembangnya dunia data di dunia saat ini yang diakibatkan oleh meluasnya penggunaan aplikasi smartphone dan juga pemakaian sistem pada seluruh perusahaan. Namun data-data ini belum tentu menjadi informasi yang dibutuhkan oleh organisasi dan bisnis bila tidak bisa diolah dengan baik. \n",
    "\n",
    "Hal ini lah yang memunculkan disiplin ilmu baru yaitu Data Science. Dimana, disini kita akan mempelajari bagaimana mengolah data menjadi informasi yang berguna."
   ]
  },
  {
   "cell_type": "markdown",
   "id": "379ce146",
   "metadata": {},
   "source": [
    "# Keuntungan menggunakan R"
   ]
  },
  {
   "cell_type": "markdown",
   "id": "013710b1",
   "metadata": {},
   "source": [
    "- Lebih Mudah Dipelajari (Easier): R relatif lebih mudah dipelajari dibandingkan dengan bahasa lain, seperti Java, C#, Javascript, dan lain-lain.\n",
    "\n",
    "- Lebih Cepat (Faster): Banyak fungsi R memberikan hasil jauh lebih cepat dibandingkan dengan aplikasi lain. Contoh: R dapat menghasilkan berbagai visualisasi yang menarik dalam waktu singkat, sehingga data scientist dapat jauh lebih produktif dalam memahami data dan menghasilkan informasi.\n",
    "\n",
    "- Lebih kaya fitur (Richer): Dengan puluhan ribu fitur yang terus berkembang, hampir semua permasalahan data dapat dijawab oleh R. Sebagai contoh, untuk mengatasi permasalahan optimasi stok di e-commerce, R memiliki fungsi menghasilkan rekomendasi product packaging.\n",
    "\n",
    "- Telah terbukti (Proven): R sudah digunakan oleh banyak data scientist perusahaan besar seperti Anz, Uber, dan Facebook dan memberikan solusi riil. Tidak heran jika akhirnya dari kisah sukses ini, banyak lowongan data scientist mencamtumkan R sebagai syarat keterampilan yang harus dimiliki."
   ]
  },
  {
   "cell_type": "markdown",
   "id": "a5193f62",
   "metadata": {},
   "source": [
    "## [Code Pertama, Hello World!](https://academy.dqlab.id/main/livecode/1/3/635?pr=0)"
   ]
  },
  {
   "cell_type": "code",
   "execution_count": 1,
   "id": "7799898f",
   "metadata": {},
   "outputs": [
    {
     "data": {
      "text/html": [
       "'hello world'"
      ],
      "text/latex": [
       "'hello world'"
      ],
      "text/markdown": [
       "'hello world'"
      ],
      "text/plain": [
       "[1] \"hello world\""
      ]
     },
     "metadata": {},
     "output_type": "display_data"
    },
    {
     "data": {
      "text/html": [
       "6"
      ],
      "text/latex": [
       "6"
      ],
      "text/markdown": [
       "6"
      ],
      "text/plain": [
       "[1] 6"
      ]
     },
     "metadata": {},
     "output_type": "display_data"
    }
   ],
   "source": [
    "\"hello world\"\n",
    "1+5"
   ]
  },
  {
   "cell_type": "markdown",
   "id": "daa1a81a",
   "metadata": {},
   "source": [
    "## [Teks, Angka dan Rumus Perhitungan](https://academy.dqlab.id/main/livecode/1/3/6?pr=0)"
   ]
  },
  {
   "cell_type": "code",
   "execution_count": 2,
   "id": "486f8236",
   "metadata": {},
   "outputs": [
    {
     "data": {
      "text/html": [
       "9"
      ],
      "text/latex": [
       "9"
      ],
      "text/markdown": [
       "9"
      ],
      "text/plain": [
       "[1] 9"
      ]
     },
     "metadata": {},
     "output_type": "display_data"
    },
    {
     "data": {
      "text/html": [
       "'budi'"
      ],
      "text/latex": [
       "'budi'"
      ],
      "text/markdown": [
       "'budi'"
      ],
      "text/plain": [
       "[1] \"budi\""
      ]
     },
     "metadata": {},
     "output_type": "display_data"
    },
    {
     "data": {
      "text/html": [
       "27"
      ],
      "text/latex": [
       "27"
      ],
      "text/markdown": [
       "27"
      ],
      "text/plain": [
       "[1] 27"
      ]
     },
     "metadata": {},
     "output_type": "display_data"
    }
   ],
   "source": [
    "9\n",
    "\"budi\"\n",
    "9*3"
   ]
  },
  {
   "cell_type": "markdown",
   "id": "164a8bae",
   "metadata": {},
   "source": [
    "## [Menampilkan dengan Fungsi Print](https://academy.dqlab.id/main/livecode/1/3/705?pr=0)"
   ]
  },
  {
   "cell_type": "code",
   "execution_count": 3,
   "id": "846c1ab4",
   "metadata": {},
   "outputs": [
    {
     "name": "stdout",
     "output_type": "stream",
     "text": [
      "[1] \"Hello World\"\n",
      "[1] 7\n"
     ]
    }
   ],
   "source": [
    "print(\"Hello World\")\n",
    "print(3+4)"
   ]
  },
  {
   "cell_type": "markdown",
   "id": "5d3d6bbc",
   "metadata": {},
   "source": [
    "## [Huruf Besar, Huruf Kecil dan Format Angka](https://academy.dqlab.id/main/livecode/1/3/636?pr=0)"
   ]
  },
  {
   "cell_type": "code",
   "execution_count": 4,
   "id": "0b6390eb",
   "metadata": {},
   "outputs": [
    {
     "data": {
      "text/html": [
       "1"
      ],
      "text/latex": [
       "1"
      ],
      "text/markdown": [
       "1"
      ],
      "text/plain": [
       "[1] 1"
      ]
     },
     "metadata": {},
     "output_type": "display_data"
    },
    {
     "data": {
      "text/html": [
       "1"
      ],
      "text/latex": [
       "1"
      ],
      "text/markdown": [
       "1"
      ],
      "text/plain": [
       "[1] 1"
      ]
     },
     "metadata": {},
     "output_type": "display_data"
    },
    {
     "data": {
      "text/html": [
       "'01-01-1980'"
      ],
      "text/latex": [
       "'01-01-1980'"
      ],
      "text/markdown": [
       "'01-01-1980'"
      ],
      "text/plain": [
       "[1] \"01-01-1980\""
      ]
     },
     "metadata": {},
     "output_type": "display_data"
    },
    {
     "data": {
      "text/html": [
       "'1-1-1980'"
      ],
      "text/latex": [
       "'1-1-1980'"
      ],
      "text/markdown": [
       "'1-1-1980'"
      ],
      "text/plain": [
       "[1] \"1-1-1980\""
      ]
     },
     "metadata": {},
     "output_type": "display_data"
    },
    {
     "data": {
      "text/html": [
       "'Budi'"
      ],
      "text/latex": [
       "'Budi'"
      ],
      "text/markdown": [
       "'Budi'"
      ],
      "text/plain": [
       "[1] \"Budi\""
      ]
     },
     "metadata": {},
     "output_type": "display_data"
    },
    {
     "data": {
      "text/html": [
       "'BUDI'"
      ],
      "text/latex": [
       "'BUDI'"
      ],
      "text/markdown": [
       "'BUDI'"
      ],
      "text/plain": [
       "[1] \"BUDI\""
      ]
     },
     "metadata": {},
     "output_type": "display_data"
    }
   ],
   "source": [
    "01\n",
    "1\n",
    "\"01-01-1980\"\n",
    "\"1-1-1980\"\n",
    "\"Budi\"\n",
    "\"BUDI\""
   ]
  },
  {
   "cell_type": "markdown",
   "id": "b6f7c5d5",
   "metadata": {},
   "source": [
    "## [Function](https://academy.dqlab.id/main/livecode/1/3/7?pr=0)"
   ]
  },
  {
   "cell_type": "code",
   "execution_count": 5,
   "id": "9b9aad4d",
   "metadata": {},
   "outputs": [
    {
     "data": {
      "text/html": [
       "<style>\n",
       ".list-inline {list-style: none; margin:0; padding: 0}\n",
       ".list-inline>li {display: inline-block}\n",
       ".list-inline>li:not(:last-child)::after {content: \"\\00b7\"; padding: 0 .5ex}\n",
       "</style>\n",
       "<ol class=list-inline><li>5</li><li>6</li><li>7</li><li>8</li><li>9</li><li>10</li></ol>\n"
      ],
      "text/latex": [
       "\\begin{enumerate*}\n",
       "\\item 5\n",
       "\\item 6\n",
       "\\item 7\n",
       "\\item 8\n",
       "\\item 9\n",
       "\\item 10\n",
       "\\end{enumerate*}\n"
      ],
      "text/markdown": [
       "1. 5\n",
       "2. 6\n",
       "3. 7\n",
       "4. 8\n",
       "5. 9\n",
       "6. 10\n",
       "\n",
       "\n"
      ],
      "text/plain": [
       "[1]  5  6  7  8  9 10"
      ]
     },
     "metadata": {},
     "output_type": "display_data"
    }
   ],
   "source": [
    "c(5:10)"
   ]
  },
  {
   "cell_type": "markdown",
   "id": "6bb01a4d",
   "metadata": {},
   "source": [
    "## [Variabel](https://academy.dqlab.id/main/livecode/1/3/10?pr=0)"
   ]
  },
  {
   "cell_type": "code",
   "execution_count": 6,
   "id": "0d080a70",
   "metadata": {},
   "outputs": [
    {
     "data": {
      "text/html": [
       "68"
      ],
      "text/latex": [
       "68"
      ],
      "text/markdown": [
       "68"
      ],
      "text/plain": [
       "[1] 68"
      ]
     },
     "metadata": {},
     "output_type": "display_data"
    },
    {
     "data": {
      "text/html": [
       "54.5"
      ],
      "text/latex": [
       "54.5"
      ],
      "text/markdown": [
       "54.5"
      ],
      "text/plain": [
       "[1] 54.5"
      ]
     },
     "metadata": {},
     "output_type": "display_data"
    },
    {
     "data": {
      "text/html": [
       "3.14"
      ],
      "text/latex": [
       "3.14"
      ],
      "text/markdown": [
       "3.14"
      ],
      "text/plain": [
       "[1] 3.14"
      ]
     },
     "metadata": {},
     "output_type": "display_data"
    }
   ],
   "source": [
    "budi_berat_kg <- 68\n",
    "\n",
    "santi_berat_kg <- 54.5\n",
    "\n",
    "budi_berat_kg\n",
    "\n",
    "santi_berat_kg\n",
    "\n",
    "pi <- 3.14\n",
    "pi"
   ]
  },
  {
   "cell_type": "markdown",
   "id": "5ecaf21c",
   "metadata": {},
   "source": [
    "## [Comment pada R](https://academy.dqlab.id/main/livecode/1/3/9?pr=0)"
   ]
  },
  {
   "cell_type": "code",
   "execution_count": 7,
   "id": "af97b98d",
   "metadata": {},
   "outputs": [
    {
     "data": {
      "text/html": [
       "4"
      ],
      "text/latex": [
       "4"
      ],
      "text/markdown": [
       "4"
      ],
      "text/plain": [
       "[1] 4"
      ]
     },
     "metadata": {},
     "output_type": "display_data"
    }
   ],
   "source": [
    "2 + 2 #ini adalah baris komentar"
   ]
  }
 ],
 "metadata": {
  "kernelspec": {
   "display_name": "R",
   "language": "R",
   "name": "ir"
  },
  "language_info": {
   "codemirror_mode": "r",
   "file_extension": ".r",
   "mimetype": "text/x-r-source",
   "name": "R",
   "pygments_lexer": "r",
   "version": "4.1.0"
  }
 },
 "nbformat": 4,
 "nbformat_minor": 5
}
