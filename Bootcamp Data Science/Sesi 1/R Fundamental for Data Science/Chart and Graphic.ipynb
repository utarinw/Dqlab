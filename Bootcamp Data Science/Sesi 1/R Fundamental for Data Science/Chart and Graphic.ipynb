{
 "cells": [
  {
   "cell_type": "markdown",
   "id": "818f7a6c",
   "metadata": {},
   "source": [
    "## [Package ggplot2](https://academy.dqlab.id/main/livecode/1/5/766?pr=0)"
   ]
  },
  {
   "cell_type": "code",
   "execution_count": 1,
   "id": "db327fdc",
   "metadata": {},
   "outputs": [
    {
     "data": {
      "text/html": [
       "<table class=\"dataframe\">\n",
       "<caption>A data.frame: 5 × 3</caption>\n",
       "<thead>\n",
       "\t<tr><th scope=col>fakultas</th><th scope=col>jumlah_mahasiswa</th><th scope=col>akreditasi</th></tr>\n",
       "\t<tr><th scope=col>&lt;chr&gt;</th><th scope=col>&lt;dbl&gt;</th><th scope=col>&lt;chr&gt;</th></tr>\n",
       "</thead>\n",
       "<tbody>\n",
       "\t<tr><td>Bisnis         </td><td>260</td><td>A</td></tr>\n",
       "\t<tr><td>D3 Perhotelan  </td><td> 28</td><td>A</td></tr>\n",
       "\t<tr><td>ICT            </td><td>284</td><td>B</td></tr>\n",
       "\t<tr><td>Ilmu Komunikasi</td><td>465</td><td>A</td></tr>\n",
       "\t<tr><td>Seni dan Desain</td><td>735</td><td>A</td></tr>\n",
       "</tbody>\n",
       "</table>\n"
      ],
      "text/latex": [
       "A data.frame: 5 × 3\n",
       "\\begin{tabular}{lll}\n",
       " fakultas & jumlah\\_mahasiswa & akreditasi\\\\\n",
       " <chr> & <dbl> & <chr>\\\\\n",
       "\\hline\n",
       "\t Bisnis          & 260 & A\\\\\n",
       "\t D3 Perhotelan   &  28 & A\\\\\n",
       "\t ICT             & 284 & B\\\\\n",
       "\t Ilmu Komunikasi & 465 & A\\\\\n",
       "\t Seni dan Desain & 735 & A\\\\\n",
       "\\end{tabular}\n"
      ],
      "text/markdown": [
       "\n",
       "A data.frame: 5 × 3\n",
       "\n",
       "| fakultas &lt;chr&gt; | jumlah_mahasiswa &lt;dbl&gt; | akreditasi &lt;chr&gt; |\n",
       "|---|---|---|\n",
       "| Bisnis          | 260 | A |\n",
       "| D3 Perhotelan   |  28 | A |\n",
       "| ICT             | 284 | B |\n",
       "| Ilmu Komunikasi | 465 | A |\n",
       "| Seni dan Desain | 735 | A |\n",
       "\n"
      ],
      "text/plain": [
       "  fakultas        jumlah_mahasiswa akreditasi\n",
       "1 Bisnis          260              A         \n",
       "2 D3 Perhotelan    28              A         \n",
       "3 ICT             284              B         \n",
       "4 Ilmu Komunikasi 465              A         \n",
       "5 Seni dan Desain 735              A         "
      ]
     },
     "metadata": {},
     "output_type": "display_data"
    },
    {
     "data": {
      "image/png": "[encoded data removed]",
      "text/plain": [
       "plot without title"
      ]
     },
     "metadata": {
      "image/png": {
       "height": 420,
       "width": 420
      }
     },
     "output_type": "display_data"
    }
   ],
   "source": [
    "fakultas <- c(\"Bisnis\", \"D3 Perhotelan\", \"ICT\", \"Ilmu Komunikasi\", \"Seni dan Desain\")\n",
    "jumlah_mahasiswa <- c(260, 28, 284, 465, 735)\n",
    "akreditasi <- c(\"A\",\"A\",\"B\",\"A\",\"A\")\n",
    "\n",
    "info_mahasiswa <- data.frame(fakultas, jumlah_mahasiswa, akreditasi)\n",
    "info_mahasiswa\n",
    "\n",
    "#Menggunakan package ggplot2\n",
    "library(\"ggplot2\")\n",
    "\n",
    "#Membuat kanvas\n",
    "gambar <- ggplot(info_mahasiswa, aes(x=fakultas, y=jumlah_mahasiswa, fill=fakultas))\n",
    "gambar <- gambar + geom_bar(width=1, stat=\"identity\")\n",
    "gambar"
   ]
  },
  {
   "cell_type": "markdown",
   "id": "ea352f37",
   "metadata": {},
   "source": [
    "## [Membuat Grafik Sebaran Mahasiswa (1)](https://academy.dqlab.id/main/livecode/1/5/22?pr=0)"
   ]
  },
  {
   "cell_type": "code",
   "execution_count": 2,
   "id": "739b7a7c",
   "metadata": {},
   "outputs": [
    {
     "data": {
      "text/html": [
       "<table class=\"dataframe\">\n",
       "<caption>A data.frame: 5 × 3</caption>\n",
       "<thead>\n",
       "\t<tr><th scope=col>fakultas</th><th scope=col>jumlah_mahasiswa</th><th scope=col>akreditasi</th></tr>\n",
       "\t<tr><th scope=col>&lt;chr&gt;</th><th scope=col>&lt;dbl&gt;</th><th scope=col>&lt;chr&gt;</th></tr>\n",
       "</thead>\n",
       "<tbody>\n",
       "\t<tr><td>Bisnis         </td><td>260</td><td>A</td></tr>\n",
       "\t<tr><td>D3 Perhotelan  </td><td> 28</td><td>A</td></tr>\n",
       "\t<tr><td>ICT            </td><td>284</td><td>B</td></tr>\n",
       "\t<tr><td>Ilmu Komunikasi</td><td>465</td><td>A</td></tr>\n",
       "\t<tr><td>Seni dan Desain</td><td>735</td><td>A</td></tr>\n",
       "</tbody>\n",
       "</table>\n"
      ],
      "text/latex": [
       "A data.frame: 5 × 3\n",
       "\\begin{tabular}{lll}\n",
       " fakultas & jumlah\\_mahasiswa & akreditasi\\\\\n",
       " <chr> & <dbl> & <chr>\\\\\n",
       "\\hline\n",
       "\t Bisnis          & 260 & A\\\\\n",
       "\t D3 Perhotelan   &  28 & A\\\\\n",
       "\t ICT             & 284 & B\\\\\n",
       "\t Ilmu Komunikasi & 465 & A\\\\\n",
       "\t Seni dan Desain & 735 & A\\\\\n",
       "\\end{tabular}\n"
      ],
      "text/markdown": [
       "\n",
       "A data.frame: 5 × 3\n",
       "\n",
       "| fakultas &lt;chr&gt; | jumlah_mahasiswa &lt;dbl&gt; | akreditasi &lt;chr&gt; |\n",
       "|---|---|---|\n",
       "| Bisnis          | 260 | A |\n",
       "| D3 Perhotelan   |  28 | A |\n",
       "| ICT             | 284 | B |\n",
       "| Ilmu Komunikasi | 465 | A |\n",
       "| Seni dan Desain | 735 | A |\n",
       "\n"
      ],
      "text/plain": [
       "  fakultas        jumlah_mahasiswa akreditasi\n",
       "1 Bisnis          260              A         \n",
       "2 D3 Perhotelan    28              A         \n",
       "3 ICT             284              B         \n",
       "4 Ilmu Komunikasi 465              A         \n",
       "5 Seni dan Desain 735              A         "
      ]
     },
     "metadata": {},
     "output_type": "display_data"
    },
    {
     "data": {
      "image/png": "[encoded data removed]",
      "text/plain": [
       "plot without title"
      ]
     },
     "metadata": {
      "image/png": {
       "height": 420,
       "width": 420
      }
     },
     "output_type": "display_data"
    }
   ],
   "source": [
    "#Membuat dua vector\n",
    "fakultas <- c(\"Bisnis\", \"D3 Perhotelan\", \"ICT\", \"Ilmu Komunikasi\", \"Seni dan Desain\")\n",
    "jumlah_mahasiswa <- c(260, 28, 284, 465, 735)\n",
    "akreditasi <- c(\"A\",\"A\",\"B\",\"A\",\"A\")\n",
    "\n",
    "#Buat data frame dari ketiga vector di atas\n",
    "info_mahasiswa <- data.frame(fakultas, jumlah_mahasiswa, akreditasi)\n",
    "info_mahasiswa\n",
    "\n",
    "#Menggunakan package ggplot2\n",
    "library(ggplot2)\n",
    "\n",
    "#Membuat kanvas\n",
    "gambar <- ggplot(info_mahasiswa, aes(x=fakultas, y=jumlah_mahasiswa, fill=fakultas))\n",
    "\n",
    "#Menambahkan objek bar chart, simpan kembali sebagai variable gambar\n",
    "gambar <- gambar + geom_bar(width=1, stat=\"identity\")\n",
    "\n",
    "#Menambahkan judul grafik\n",
    "gambar <- gambar + ggtitle(\"Jumlah Mahasiswa per Fakultas\")\n",
    "#Menambahkan caption pada sumbu x\n",
    "gambar <- gambar + xlab(\"Nama Fakultas\")\n",
    "#Menambahkan caption pada sumbu y\n",
    "gambar <- gambar + ylab(\"Jumlah Mahasiswa\")\n",
    "#Menggambar grafik\n",
    "gambar"
   ]
  },
  {
   "cell_type": "markdown",
   "id": "e38f46aa",
   "metadata": {},
   "source": [
    "## [Membuat Grafik Sebaran Mahasiswa (2)](https://academy.dqlab.id/main/livecode/1/5/770?pr=0)"
   ]
  },
  {
   "cell_type": "code",
   "execution_count": 3,
   "id": "7203c303",
   "metadata": {},
   "outputs": [
    {
     "data": {
      "image/png": "[encoded data removed]",
      "text/plain": [
       "plot without title"
      ]
     },
     "metadata": {
      "image/png": {
       "height": 420,
       "width": 420
      }
     },
     "output_type": "display_data"
    }
   ],
   "source": [
    "library(ggplot2)\n",
    "#Menggunakan package openxlsx\n",
    "library(openxlsx)\n",
    "\n",
    "#Membaca file mahasiswa.xlsx\n",
    "mahasiswa <- read.xlsx(\"https://storage.googleapis.com/dqlab-dataset/mahasiswa.xlsx\",sheet = \"Sheet 1\")\n",
    "\n",
    "#Membuat kanvas\n",
    "gambar <- ggplot(mahasiswa, aes(x=Fakultas, y=JUMLAH, fill=Fakultas))\n",
    "\n",
    "#Menambahkan objek bar chart, simpan kembali sebagai variable gambar\n",
    "gambar <- gambar + geom_bar(width=1, stat=\"identity\")\n",
    "\n",
    "#Menggambar grafik\n",
    "gambar"
   ]
  },
  {
   "cell_type": "markdown",
   "id": "d9e5f2d9",
   "metadata": {},
   "source": [
    "## [Trend Jumlah Mahasiswa dari Tahun ke Tahun](https://academy.dqlab.id/main/livecode/1/5/767?pr=0)"
   ]
  },
  {
   "cell_type": "code",
   "execution_count": 4,
   "id": "af6dabf2",
   "metadata": {},
   "outputs": [
    {
     "data": {
      "text/html": [
       "<table class=\"dataframe\">\n",
       "<caption>A data.frame: 13 × 3</caption>\n",
       "<thead>\n",
       "\t<tr><th scope=col>fakultas</th><th scope=col>tahun</th><th scope=col>jumlah_mahasiswa</th></tr>\n",
       "\t<tr><th scope=col>&lt;chr&gt;</th><th scope=col>&lt;dbl&gt;</th><th scope=col>&lt;dbl&gt;</th></tr>\n",
       "</thead>\n",
       "<tbody>\n",
       "\t<tr><td>Bisnis         </td><td>2015</td><td>257</td></tr>\n",
       "\t<tr><td>ICT            </td><td>2015</td><td>249</td></tr>\n",
       "\t<tr><td>Ilmu Komunikasi</td><td>2015</td><td>500</td></tr>\n",
       "\t<tr><td>Seni dan Desain</td><td>2015</td><td>563</td></tr>\n",
       "\t<tr><td>Bisnis         </td><td>2016</td><td>248</td></tr>\n",
       "\t<tr><td>ICT            </td><td>2016</td><td>294</td></tr>\n",
       "\t<tr><td>Ilmu Komunikasi</td><td>2016</td><td>526</td></tr>\n",
       "\t<tr><td>Seni dan Desain</td><td>2016</td><td>616</td></tr>\n",
       "\t<tr><td>Bisnis         </td><td>2017</td><td>263</td></tr>\n",
       "\t<tr><td>D3 Perhotelan  </td><td>2017</td><td> 28</td></tr>\n",
       "\t<tr><td>ICT            </td><td>2017</td><td>324</td></tr>\n",
       "\t<tr><td>Ilmu Komunikasi</td><td>2017</td><td>499</td></tr>\n",
       "\t<tr><td>Seni dan Desain</td><td>2017</td><td>682</td></tr>\n",
       "</tbody>\n",
       "</table>\n"
      ],
      "text/latex": [
       "A data.frame: 13 × 3\n",
       "\\begin{tabular}{lll}\n",
       " fakultas & tahun & jumlah\\_mahasiswa\\\\\n",
       " <chr> & <dbl> & <dbl>\\\\\n",
       "\\hline\n",
       "\t Bisnis          & 2015 & 257\\\\\n",
       "\t ICT             & 2015 & 249\\\\\n",
       "\t Ilmu Komunikasi & 2015 & 500\\\\\n",
       "\t Seni dan Desain & 2015 & 563\\\\\n",
       "\t Bisnis          & 2016 & 248\\\\\n",
       "\t ICT             & 2016 & 294\\\\\n",
       "\t Ilmu Komunikasi & 2016 & 526\\\\\n",
       "\t Seni dan Desain & 2016 & 616\\\\\n",
       "\t Bisnis          & 2017 & 263\\\\\n",
       "\t D3 Perhotelan   & 2017 &  28\\\\\n",
       "\t ICT             & 2017 & 324\\\\\n",
       "\t Ilmu Komunikasi & 2017 & 499\\\\\n",
       "\t Seni dan Desain & 2017 & 682\\\\\n",
       "\\end{tabular}\n"
      ],
      "text/markdown": [
       "\n",
       "A data.frame: 13 × 3\n",
       "\n",
       "| fakultas &lt;chr&gt; | tahun &lt;dbl&gt; | jumlah_mahasiswa &lt;dbl&gt; |\n",
       "|---|---|---|\n",
       "| Bisnis          | 2015 | 257 |\n",
       "| ICT             | 2015 | 249 |\n",
       "| Ilmu Komunikasi | 2015 | 500 |\n",
       "| Seni dan Desain | 2015 | 563 |\n",
       "| Bisnis          | 2016 | 248 |\n",
       "| ICT             | 2016 | 294 |\n",
       "| Ilmu Komunikasi | 2016 | 526 |\n",
       "| Seni dan Desain | 2016 | 616 |\n",
       "| Bisnis          | 2017 | 263 |\n",
       "| D3 Perhotelan   | 2017 |  28 |\n",
       "| ICT             | 2017 | 324 |\n",
       "| Ilmu Komunikasi | 2017 | 499 |\n",
       "| Seni dan Desain | 2017 | 682 |\n",
       "\n"
      ],
      "text/plain": [
       "   fakultas        tahun jumlah_mahasiswa\n",
       "1  Bisnis          2015  257             \n",
       "2  ICT             2015  249             \n",
       "3  Ilmu Komunikasi 2015  500             \n",
       "4  Seni dan Desain 2015  563             \n",
       "5  Bisnis          2016  248             \n",
       "6  ICT             2016  294             \n",
       "7  Ilmu Komunikasi 2016  526             \n",
       "8  Seni dan Desain 2016  616             \n",
       "9  Bisnis          2017  263             \n",
       "10 D3 Perhotelan   2017   28             \n",
       "11 ICT             2017  324             \n",
       "12 Ilmu Komunikasi 2017  499             \n",
       "13 Seni dan Desain 2017  682             "
      ]
     },
     "metadata": {},
     "output_type": "display_data"
    },
    {
     "data": {
      "image/png": "[encoded data removed]",
      "text/plain": [
       "plot without title"
      ]
     },
     "metadata": {
      "image/png": {
       "height": 420,
       "width": 420
      }
     },
     "output_type": "display_data"
    }
   ],
   "source": [
    "library(ggplot2)\n",
    "#Menggunakan package openxlsx\n",
    "library(openxlsx)\n",
    "\n",
    "#Membaca file mahasiswa.xlsx\n",
    "mahasiswa <- read.xlsx(\"https://storage.googleapis.com/dqlab-dataset/mahasiswa.xlsx\",sheet = \"Sheet 1\")\n",
    "\n",
    "#Menghitung Jumlah Data by Fakultas\n",
    "summarybyfakultas <- aggregate(x=mahasiswa$JUMLAH, by=list(Kategori=mahasiswa$Fakultas, Tahun=mahasiswa$ANGKATAN), FUN=sum)\n",
    "summarybyfakultas <- setNames(summarybyfakultas, c(\"fakultas\",\"tahun\", \"jumlah_mahasiswa\"))\n",
    "summarybyfakultas\n",
    "\n",
    "summarybyfakultas$tahun = as.factor(summarybyfakultas$tahun)\n",
    "\n",
    "ggplot(summarybyfakultas, aes(x=fakultas, y=jumlah_mahasiswa)) + \n",
    "  geom_bar(stat = \"identity\", aes(fill = tahun), width=0.8, position = position_dodge(width=0.8)) + \n",
    "  theme_classic() \n"
   ]
  },
  {
   "cell_type": "markdown",
   "id": "51e38c0d",
   "metadata": {},
   "source": [
    "## [Pie Chart](https://academy.dqlab.id/main/livecode/1/5/768?pr=0)"
   ]
  },
  {
   "cell_type": "code",
   "execution_count": 5,
   "id": "788ac3c3",
   "metadata": {},
   "outputs": [
    {
     "data": {
      "image/png": "[encoded data removed]",
      "text/plain": [
       "plot without title"
      ]
     },
     "metadata": {
      "image/png": {
       "height": 420,
       "width": 420
      }
     },
     "output_type": "display_data"
    }
   ],
   "source": [
    "library(ggplot2)\n",
    "library(openxlsx)\n",
    "#Membaca file mahasiswa.xlsx\n",
    "mahasiswa <- read.xlsx(\"https://storage.googleapis.com/dqlab-dataset/mahasiswa.xlsx\",sheet = \"Sheet 1\")\n",
    "\n",
    "#Menghitung Jumlah Data by Fakultas\n",
    "summarybyfakultas <- aggregate(x=mahasiswa$JUMLAH, by=list(Kategori=mahasiswa$Fakultas), FUN=sum)\n",
    "summarybyfakultas <- setNames(summarybyfakultas, c(\"fakultas\",\"jumlah_mahasiswa\"))\n",
    "\n",
    "piechart<- ggplot(summarybyfakultas, aes(x=\"\", y=jumlah_mahasiswa, fill=fakultas))+ geom_bar(width = 1, stat = \"identity\")\n",
    "piechart <- piechart + coord_polar(\"y\", start=0)\n",
    "piechart <- piechart + ggtitle(\"Disribusi Mahasiswa per Fakultas\")\n",
    "piechart <- piechart + scale_fill_brewer(palette=\"Blues\")+ theme_minimal()\n",
    "piechart <- piechart + guides(fill=guide_legend(title=\"Fakultas\"))\n",
    "piechart <- piechart + ylab(\"Jumlah Mahasiswa\") \n",
    "piechart\n"
   ]
  },
  {
   "cell_type": "markdown",
   "id": "152ff8b0",
   "metadata": {},
   "source": [
    "## [Filtering](https://academy.dqlab.id/main/livecode/1/5/769?pr=0)"
   ]
  },
  {
   "cell_type": "code",
   "execution_count": 6,
   "id": "61951fed",
   "metadata": {},
   "outputs": [
    {
     "data": {
      "text/html": [
       "<table class=\"dataframe\">\n",
       "<caption>A data.frame: 13 × 3</caption>\n",
       "<thead>\n",
       "\t<tr><th scope=col>fakultas</th><th scope=col>tahun</th><th scope=col>jumlah_mahasiswa</th></tr>\n",
       "\t<tr><th scope=col>&lt;chr&gt;</th><th scope=col>&lt;dbl&gt;</th><th scope=col>&lt;dbl&gt;</th></tr>\n",
       "</thead>\n",
       "<tbody>\n",
       "\t<tr><td>Bisnis         </td><td>2015</td><td>257</td></tr>\n",
       "\t<tr><td>ICT            </td><td>2015</td><td>249</td></tr>\n",
       "\t<tr><td>Ilmu Komunikasi</td><td>2015</td><td>500</td></tr>\n",
       "\t<tr><td>Seni dan Desain</td><td>2015</td><td>563</td></tr>\n",
       "\t<tr><td>Bisnis         </td><td>2016</td><td>248</td></tr>\n",
       "\t<tr><td>ICT            </td><td>2016</td><td>294</td></tr>\n",
       "\t<tr><td>Ilmu Komunikasi</td><td>2016</td><td>526</td></tr>\n",
       "\t<tr><td>Seni dan Desain</td><td>2016</td><td>616</td></tr>\n",
       "\t<tr><td>Bisnis         </td><td>2017</td><td>263</td></tr>\n",
       "\t<tr><td>D3 Perhotelan  </td><td>2017</td><td> 28</td></tr>\n",
       "\t<tr><td>ICT            </td><td>2017</td><td>324</td></tr>\n",
       "\t<tr><td>Ilmu Komunikasi</td><td>2017</td><td>499</td></tr>\n",
       "\t<tr><td>Seni dan Desain</td><td>2017</td><td>682</td></tr>\n",
       "</tbody>\n",
       "</table>\n"
      ],
      "text/latex": [
       "A data.frame: 13 × 3\n",
       "\\begin{tabular}{lll}\n",
       " fakultas & tahun & jumlah\\_mahasiswa\\\\\n",
       " <chr> & <dbl> & <dbl>\\\\\n",
       "\\hline\n",
       "\t Bisnis          & 2015 & 257\\\\\n",
       "\t ICT             & 2015 & 249\\\\\n",
       "\t Ilmu Komunikasi & 2015 & 500\\\\\n",
       "\t Seni dan Desain & 2015 & 563\\\\\n",
       "\t Bisnis          & 2016 & 248\\\\\n",
       "\t ICT             & 2016 & 294\\\\\n",
       "\t Ilmu Komunikasi & 2016 & 526\\\\\n",
       "\t Seni dan Desain & 2016 & 616\\\\\n",
       "\t Bisnis          & 2017 & 263\\\\\n",
       "\t D3 Perhotelan   & 2017 &  28\\\\\n",
       "\t ICT             & 2017 & 324\\\\\n",
       "\t Ilmu Komunikasi & 2017 & 499\\\\\n",
       "\t Seni dan Desain & 2017 & 682\\\\\n",
       "\\end{tabular}\n"
      ],
      "text/markdown": [
       "\n",
       "A data.frame: 13 × 3\n",
       "\n",
       "| fakultas &lt;chr&gt; | tahun &lt;dbl&gt; | jumlah_mahasiswa &lt;dbl&gt; |\n",
       "|---|---|---|\n",
       "| Bisnis          | 2015 | 257 |\n",
       "| ICT             | 2015 | 249 |\n",
       "| Ilmu Komunikasi | 2015 | 500 |\n",
       "| Seni dan Desain | 2015 | 563 |\n",
       "| Bisnis          | 2016 | 248 |\n",
       "| ICT             | 2016 | 294 |\n",
       "| Ilmu Komunikasi | 2016 | 526 |\n",
       "| Seni dan Desain | 2016 | 616 |\n",
       "| Bisnis          | 2017 | 263 |\n",
       "| D3 Perhotelan   | 2017 |  28 |\n",
       "| ICT             | 2017 | 324 |\n",
       "| Ilmu Komunikasi | 2017 | 499 |\n",
       "| Seni dan Desain | 2017 | 682 |\n",
       "\n"
      ],
      "text/plain": [
       "   fakultas        tahun jumlah_mahasiswa\n",
       "1  Bisnis          2015  257             \n",
       "2  ICT             2015  249             \n",
       "3  Ilmu Komunikasi 2015  500             \n",
       "4  Seni dan Desain 2015  563             \n",
       "5  Bisnis          2016  248             \n",
       "6  ICT             2016  294             \n",
       "7  Ilmu Komunikasi 2016  526             \n",
       "8  Seni dan Desain 2016  616             \n",
       "9  Bisnis          2017  263             \n",
       "10 D3 Perhotelan   2017   28             \n",
       "11 ICT             2017  324             \n",
       "12 Ilmu Komunikasi 2017  499             \n",
       "13 Seni dan Desain 2017  682             "
      ]
     },
     "metadata": {},
     "output_type": "display_data"
    },
    {
     "data": {
      "text/html": [
       "<table class=\"dataframe\">\n",
       "<caption>A data.frame: 6 × 3</caption>\n",
       "<thead>\n",
       "\t<tr><th></th><th scope=col>fakultas</th><th scope=col>tahun</th><th scope=col>jumlah_mahasiswa</th></tr>\n",
       "\t<tr><th></th><th scope=col>&lt;chr&gt;</th><th scope=col>&lt;fct&gt;</th><th scope=col>&lt;dbl&gt;</th></tr>\n",
       "</thead>\n",
       "<tbody>\n",
       "\t<tr><th scope=row>2</th><td>ICT            </td><td>2015</td><td>249</td></tr>\n",
       "\t<tr><th scope=row>3</th><td>Ilmu Komunikasi</td><td>2015</td><td>500</td></tr>\n",
       "\t<tr><th scope=row>6</th><td>ICT            </td><td>2016</td><td>294</td></tr>\n",
       "\t<tr><th scope=row>7</th><td>Ilmu Komunikasi</td><td>2016</td><td>526</td></tr>\n",
       "\t<tr><th scope=row>11</th><td>ICT            </td><td>2017</td><td>324</td></tr>\n",
       "\t<tr><th scope=row>12</th><td>Ilmu Komunikasi</td><td>2017</td><td>499</td></tr>\n",
       "</tbody>\n",
       "</table>\n"
      ],
      "text/latex": [
       "A data.frame: 6 × 3\n",
       "\\begin{tabular}{r|lll}\n",
       "  & fakultas & tahun & jumlah\\_mahasiswa\\\\\n",
       "  & <chr> & <fct> & <dbl>\\\\\n",
       "\\hline\n",
       "\t2 & ICT             & 2015 & 249\\\\\n",
       "\t3 & Ilmu Komunikasi & 2015 & 500\\\\\n",
       "\t6 & ICT             & 2016 & 294\\\\\n",
       "\t7 & Ilmu Komunikasi & 2016 & 526\\\\\n",
       "\t11 & ICT             & 2017 & 324\\\\\n",
       "\t12 & Ilmu Komunikasi & 2017 & 499\\\\\n",
       "\\end{tabular}\n"
      ],
      "text/markdown": [
       "\n",
       "A data.frame: 6 × 3\n",
       "\n",
       "| <!--/--> | fakultas &lt;chr&gt; | tahun &lt;fct&gt; | jumlah_mahasiswa &lt;dbl&gt; |\n",
       "|---|---|---|---|\n",
       "| 2 | ICT             | 2015 | 249 |\n",
       "| 3 | Ilmu Komunikasi | 2015 | 500 |\n",
       "| 6 | ICT             | 2016 | 294 |\n",
       "| 7 | Ilmu Komunikasi | 2016 | 526 |\n",
       "| 11 | ICT             | 2017 | 324 |\n",
       "| 12 | Ilmu Komunikasi | 2017 | 499 |\n",
       "\n"
      ],
      "text/plain": [
       "   fakultas        tahun jumlah_mahasiswa\n",
       "2  ICT             2015  249             \n",
       "3  Ilmu Komunikasi 2015  500             \n",
       "6  ICT             2016  294             \n",
       "7  Ilmu Komunikasi 2016  526             \n",
       "11 ICT             2017  324             \n",
       "12 Ilmu Komunikasi 2017  499             "
      ]
     },
     "metadata": {},
     "output_type": "display_data"
    },
    {
     "data": {
      "image/png": "[encoded data removed]",
      "text/plain": [
       "plot without title"
      ]
     },
     "metadata": {
      "image/png": {
       "height": 420,
       "width": 420
      }
     },
     "output_type": "display_data"
    }
   ],
   "source": [
    "library(\"ggplot2\")\n",
    "library(\"openxlsx\")\n",
    "\n",
    "#Membaca file mahasiswa.xlsx\n",
    "mahasiswa <- read.xlsx(\"https://storage.googleapis.com/dqlab-dataset/mahasiswa.xlsx\",sheet = \"Sheet 1\")\n",
    "\n",
    "#Menghitung Jumlah Data by Fakultas\n",
    "summarybyfakultas <- aggregate(x=mahasiswa$JUMLAH, by=list(Kategori=mahasiswa$Fakultas, Tahun=mahasiswa$ANGKATAN), FUN=sum)\n",
    "summarybyfakultas <- setNames(summarybyfakultas, c(\"fakultas\",\"tahun\", \"jumlah_mahasiswa\"))\n",
    "summarybyfakultas\n",
    "\n",
    "summarybyfakultas$tahun = as.factor(summarybyfakultas$tahun)\n",
    "summarybyfakultas[summarybyfakultas$fakultas %in% c(\"ICT\", \"Ilmu Komunikasi\"),]\n",
    "\n",
    "ggplot(summarybyfakultas[summarybyfakultas$fakultas %in% c(\"ICT\", \"Ilmu Komunikasi\"),], aes(x=fakultas, y=jumlah_mahasiswa)) + \n",
    "  geom_bar(stat = \"identity\", aes(fill = tahun), width=0.8, position = position_dodge(width=0.8)) + \n",
    "  theme_classic() "
   ]
  }
 ],
 "metadata": {
  "kernelspec": {
   "display_name": "R",
   "language": "R",
   "name": "ir"
  },
  "language_info": {
   "codemirror_mode": "r",
   "file_extension": ".r",
   "mimetype": "text/x-r-source",
   "name": "R",
   "pygments_lexer": "r",
   "version": "4.1.0"
  }
 },
 "nbformat": 4,
 "nbformat_minor": 5
}
