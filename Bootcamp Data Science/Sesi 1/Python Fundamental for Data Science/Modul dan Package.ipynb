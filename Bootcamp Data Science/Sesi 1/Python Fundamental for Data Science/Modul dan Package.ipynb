{
 "cells": [
  {
   "cell_type": "markdown",
   "id": "cca56067",
   "metadata": {},
   "source": [
    "## [Import Package dan Menggunakan modul](https://academy.dqlab.id/main/livecode/45/115/549?pr=0)"
   ]
  },
  {
   "cell_type": "code",
   "execution_count": 1,
   "id": "6fdc8302",
   "metadata": {},
   "outputs": [
    {
     "name": "stdout",
     "output_type": "stream",
     "text": [
      "Nilai pi adalah: 3.141592653589793\n"
     ]
    }
   ],
   "source": [
    "import math\n",
    "print(\"Nilai pi adalah:\", math.pi)# math.pi merupakan sintak untuk memanggil fungsi\t"
   ]
  },
  {
   "cell_type": "markdown",
   "id": "82df1a8d",
   "metadata": {},
   "source": [
    "## [Import dengan Module Rename atau Alias](https://academy.dqlab.id/main/livecode/45/115/549?pr=0)"
   ]
  },
  {
   "cell_type": "code",
   "execution_count": 2,
   "id": "090fe06b",
   "metadata": {},
   "outputs": [
    {
     "name": "stdout",
     "output_type": "stream",
     "text": [
      "Nilai pi adalah: 3.141592653589793\n"
     ]
    }
   ],
   "source": [
    "import math as m                #menggunakan m sebagai module rename atau alias\n",
    "print(\"Nilai pi adalah:\", m.pi) #m.pi merupakan sintak untuk memanggil fungsi​\t\t\t\t"
   ]
  },
  {
   "cell_type": "markdown",
   "id": "4b8e17ec",
   "metadata": {},
   "source": [
    "## [Import Sebagian Fungsi](https://academy.dqlab.id/main/livecode/45/115/549?pr=0)"
   ]
  },
  {
   "cell_type": "code",
   "execution_count": 3,
   "id": "c851d828",
   "metadata": {},
   "outputs": [
    {
     "name": "stdout",
     "output_type": "stream",
     "text": [
      "Nilai pi adalah 3.141592653589793\n"
     ]
    }
   ],
   "source": [
    "from math import pi\n",
    "\n",
    "print(\"Nilai pi adalah\", pi)\t"
   ]
  },
  {
   "cell_type": "markdown",
   "id": "01bdc8db",
   "metadata": {},
   "source": [
    "## [Import Semua isi Moduls](https://academy.dqlab.id/main/livecode/45/115/549?pr=0)"
   ]
  },
  {
   "cell_type": "code",
   "execution_count": 4,
   "id": "b8e9c70a",
   "metadata": {},
   "outputs": [
    {
     "name": "stdout",
     "output_type": "stream",
     "text": [
      "Nilai e adalah: 2.718281828459045\n"
     ]
    }
   ],
   "source": [
    "from math import *\n",
    "\n",
    "print(\"Nilai e adalah:\", e)\t\t\t\t"
   ]
  }
 ],
 "metadata": {
  "kernelspec": {
   "display_name": "Python 3 (ipykernel)",
   "language": "python",
   "name": "python3"
  },
  "language_info": {
   "codemirror_mode": {
    "name": "ipython",
    "version": 3
   },
   "file_extension": ".py",
   "mimetype": "text/x-python",
   "name": "python",
   "nbconvert_exporter": "python",
   "pygments_lexer": "ipython3",
   "version": "3.9.6"
  }
 },
 "nbformat": 4,
 "nbformat_minor": 5
}
