{
 "cells": [
  {
   "cell_type": "markdown",
   "id": "a2d13202",
   "metadata": {},
   "source": [
    "## [Membuat fungsi sendiri](https://academy.dqlab.id/main/livecode/45/114/545?pr=0)"
   ]
  },
  {
   "cell_type": "code",
   "execution_count": 1,
   "id": "70fc981e",
   "metadata": {},
   "outputs": [
    {
     "name": "stdout",
     "output_type": "stream",
     "text": [
      "Hello, Selamat Pagi\n"
     ]
    }
   ],
   "source": [
    "# Membuat Fungsi\n",
    "def salam():\n",
    "    print(\"Hello, Selamat Pagi\")\n",
    "\n",
    "\n",
    "\n",
    "## Pemanggilan Fungsi\n",
    "salam()\t\t"
   ]
  },
  {
   "cell_type": "markdown",
   "id": "8947203f",
   "metadata": {},
   "source": [
    "## [Parameter pada fungsi](https://academy.dqlab.id/main/livecode/45/114/546?pr=0)"
   ]
  },
  {
   "cell_type": "code",
   "execution_count": 2,
   "id": "ea4e237a",
   "metadata": {},
   "outputs": [
    {
     "name": "stdout",
     "output_type": "stream",
     "text": [
      "Luas segitiga: 12.000000\n"
     ]
    }
   ],
   "source": [
    "def luas_segitiga(alas, tinggi): #alas dan tinggi merupakan parameter yang masuk\n",
    "    luas = (alas * tinggi) / 2\n",
    "    print(\"Luas segitiga: %f\" % luas);\n",
    "\n",
    "\n",
    "\n",
    "# Pemanggilan fungsi\n",
    "##4 dan 6 merupakan parameter yang diinputkan kedalam fungsi luas segitiga\n",
    "luas_segitiga(4, 6) \t\t\t\t"
   ]
  },
  {
   "cell_type": "markdown",
   "id": "843f01aa",
   "metadata": {},
   "source": [
    "## [Fungsi dengan Return Value](https://academy.dqlab.id/main/livecode/45/114/547?pr=0)"
   ]
  },
  {
   "cell_type": "code",
   "execution_count": 3,
   "id": "e6bd92c5",
   "metadata": {},
   "outputs": [
    {
     "name": "stdout",
     "output_type": "stream",
     "text": [
      "Luas segitiga: 12\n"
     ]
    }
   ],
   "source": [
    "# Buat fungsi untuk menghitung luas segitiga\n",
    "# alas dan tinggi merupakan parameter yang masuk\n",
    "def luas_segitiga(alas, tinggi):\n",
    "    luas = (alas * tinggi) / 2\n",
    "    return luas\n",
    "\n",
    "# pemanggilan fungsi\n",
    "print(\"Luas segitiga: %d\" % luas_segitiga(4, 6))"
   ]
  }
 ],
 "metadata": {
  "kernelspec": {
   "display_name": "Python 3 (ipykernel)",
   "language": "python",
   "name": "python3"
  },
  "language_info": {
   "codemirror_mode": {
    "name": "ipython",
    "version": 3
   },
   "file_extension": ".py",
   "mimetype": "text/x-python",
   "name": "python",
   "nbconvert_exporter": "python",
   "pygments_lexer": "ipython3",
   "version": "3.9.6"
  }
 },
 "nbformat": 4,
 "nbformat_minor": 5
}
