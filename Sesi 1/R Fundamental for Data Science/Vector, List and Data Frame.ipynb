{
 "cells": [
  {
   "cell_type": "markdown",
   "id": "21aad454",
   "metadata": {},
   "source": [
    "# [Vektor](https://academy.dqlab.id/main/livecode/1/4/14?pr=0)"
   ]
  },
  {
   "cell_type": "markdown",
   "id": "ef30b1e2",
   "metadata": {},
   "source": [
    "Vector adalah jenis data di R dengan struktur yang menyimpan deretan nilai (lebih dari satu nilai) dengan tipe data sama. Jadi, jika tipe datanya teks maka seluruh data harus bertipe teks. Demikian juga jika tipenya angka maka seluruh data angka semua.\n",
    "\n",
    "Vector didefinisikan dengan nama function yang memilki satu huruf saja: c. Sebagai contoh untuk membuat vector yang isinya angka dengan nilai 2, 5, dan 7, maka perintahnya adalah c(2, 5, 7)."
   ]
  },
  {
   "cell_type": "code",
   "execution_count": 1,
   "id": "bfeb552a",
   "metadata": {
    "scrolled": true
   },
   "outputs": [
    {
     "data": {
      "text/html": [
       "<style>\n",
       ".list-inline {list-style: none; margin:0; padding: 0}\n",
       ".list-inline>li {display: inline-block}\n",
       ".list-inline>li:not(:last-child)::after {content: \"\\00b7\"; padding: 0 .5ex}\n",
       "</style>\n",
       "<ol class=list-inline><li>4</li><li>5</li><li>6</li></ol>\n"
      ],
      "text/latex": [
       "\\begin{enumerate*}\n",
       "\\item 4\n",
       "\\item 5\n",
       "\\item 6\n",
       "\\end{enumerate*}\n"
      ],
      "text/markdown": [
       "1. 4\n",
       "2. 5\n",
       "3. 6\n",
       "\n",
       "\n"
      ],
      "text/plain": [
       "[1] 4 5 6"
      ]
     },
     "metadata": {},
     "output_type": "display_data"
    },
    {
     "name": "stdout",
     "output_type": "stream",
     "text": [
      "[1] 4 5 6\n"
     ]
    }
   ],
   "source": [
    "c(4,5,6)# Ini adalah contoh vector untuk angka numerik dengan 3 data c(4, 5, 6)\n",
    "\n",
    "angka <- c(4,5,6)# Variable bernama angka dengan input berupa vector\n",
    "\n",
    "print(angka)# Tampilkan isi variable angka dengan fungsi print"
   ]
  },
  {
   "cell_type": "markdown",
   "id": "49052d5c",
   "metadata": {},
   "source": [
    "# [Deretan Nilai dengan Operator :](https://academy.dqlab.id/main/livecode/1/4/708?pr=0)"
   ]
  },
  {
   "cell_type": "code",
   "execution_count": 2,
   "id": "caba2fad",
   "metadata": {},
   "outputs": [
    {
     "name": "stdout",
     "output_type": "stream",
     "text": [
      " [1]  1  2  3  4  5  6  7  8  9 10\n",
      " [1]  1  2  3  4  5  6  7  8  9 10\n"
     ]
    }
   ],
   "source": [
    "angka1 <- c(1, 2, 3, 4, 5, 6, 7, 8, 9, 10)\n",
    "print(angka1)\n",
    "angka2 <- c(1:10)\n",
    "print(angka2)"
   ]
  },
  {
   "cell_type": "markdown",
   "id": "2daf79d9",
   "metadata": {},
   "source": [
    "# [Vector dengan Isi Teks](https://academy.dqlab.id/main/livecode/1/4/709?pr=0)"
   ]
  },
  {
   "cell_type": "code",
   "execution_count": 3,
   "id": "e8754440",
   "metadata": {},
   "outputs": [
    {
     "name": "stdout",
     "output_type": "stream",
     "text": [
      "[1] \"Amira\"   \"Budi\"    \"Charlie\"\n"
     ]
    }
   ],
   "source": [
    "# Variable nama_mahasiswa dengan input character\n",
    "nama_mahasiswa <- c(\"Amira\",\"Budi\",\"Charlie\")\n",
    "print(nama_mahasiswa)"
   ]
  },
  {
   "cell_type": "markdown",
   "id": "8ee9a5f6",
   "metadata": {},
   "source": [
    "## [Index dan Accessor pada Vector](https://academy.dqlab.id/main/livecode/1/4/15?pr=0)"
   ]
  },
  {
   "cell_type": "code",
   "execution_count": 4,
   "id": "75006d49",
   "metadata": {},
   "outputs": [
    {
     "name": "stdout",
     "output_type": "stream",
     "text": [
      " [1] 20 21 22 23 24 25 26 27 28 29 30\n",
      "[1] 22\n",
      "[1] 24\n",
      "[1] 23 24 25\n",
      "[1] \"ICT\"\n"
     ]
    }
   ],
   "source": [
    "# Buat vector variable bernama angka yang isinya 20 s/d 30\n",
    "angka <- c(20:30)\n",
    "print(angka)\n",
    "\n",
    "# Tampilkan isi variable angka pada posisi ke 3\n",
    "print(angka[3])\n",
    "\n",
    "# Tampilkan isi variable angka pada posisi ke 5 gunakan kurung siku ganda\n",
    "print(angka[[5]])\n",
    "\n",
    "# Tampilkan isi variable angka pada posisi ke 4 s/d 6\n",
    "print(angka[4:6])\n",
    "\n",
    "# Buat vector teks dengan nama kode_prodi yang diisi sesuai petunjuk soal\n",
    "kode_prodi <- c(\"DKV\",\"ILKOM\",\"ICT\")\n",
    "# Tampilkan isi indeks ketiga dari kode_prodi\n",
    "print(kode_prodi[3])"
   ]
  },
  {
   "cell_type": "markdown",
   "id": "da357425",
   "metadata": {},
   "source": [
    "## [Named Vektor](https://academy.dqlab.id/main/livecode/1/4/16?pr=0)"
   ]
  },
  {
   "cell_type": "code",
   "execution_count": 5,
   "id": "fe32b534",
   "metadata": {},
   "outputs": [
    {
     "name": "stdout",
     "output_type": "stream",
     "text": [
      "     statistik         fisika ilmukomunikasi \n",
      "            89             95            100 \n",
      "fisika \n",
      "    95 \n",
      "              nama     tempat_tinggal tingkat_pendidikan \n",
      "            \"Budi\"          \"Jakarta\"               \"S1\" \n"
     ]
    }
   ],
   "source": [
    "#Membuat named vector dengan nama nilai\n",
    "nilai <- c(statistik = 89, fisika = 95, ilmukomunikasi = 100)\n",
    "\n",
    "#Menampilkan isi variable nilai\n",
    "print(nilai)\n",
    "\n",
    "#Menampilkan isi dengan nama fisika\n",
    "print(nilai[\"fisika\"])\n",
    "#Buat variable profil sesuai permintaan soal\n",
    "profil <- c(nama = \"Budi\", tempat_tinggal = \"Jakarta\", tingkat_pendidikan = \"S1\")\n",
    "#Tampilkan variable profil\n",
    "print(profil)"
   ]
  },
  {
   "cell_type": "markdown",
   "id": "e15559d9",
   "metadata": {},
   "source": [
    "## [List](https://academy.dqlab.id/main/livecode/1/4/17?pr=0)"
   ]
  },
  {
   "cell_type": "code",
   "execution_count": 6,
   "id": "9c6147f5",
   "metadata": {},
   "outputs": [
    {
     "data": {
      "text/html": [
       "<ol>\n",
       "\t<li>2</li>\n",
       "\t<li>'Budi'</li>\n",
       "\t<li>4</li>\n",
       "</ol>\n"
      ],
      "text/latex": [
       "\\begin{enumerate}\n",
       "\\item 2\n",
       "\\item 'Budi'\n",
       "\\item 4\n",
       "\\end{enumerate}\n"
      ],
      "text/markdown": [
       "1. 2\n",
       "2. 'Budi'\n",
       "3. 4\n",
       "\n",
       "\n"
      ],
      "text/plain": [
       "[[1]]\n",
       "[1] 2\n",
       "\n",
       "[[2]]\n",
       "[1] \"Budi\"\n",
       "\n",
       "[[3]]\n",
       "[1] 4\n"
      ]
     },
     "metadata": {},
     "output_type": "display_data"
    },
    {
     "data": {
      "text/html": [
       "<dl>\n",
       "\t<dt>$nama</dt>\n",
       "\t\t<dd>'Denpasar'</dd>\n",
       "\t<dt>$propinsi</dt>\n",
       "\t\t<dd>'Bali'</dd>\n",
       "</dl>\n"
      ],
      "text/latex": [
       "\\begin{description}\n",
       "\\item[\\$nama] 'Denpasar'\n",
       "\\item[\\$propinsi] 'Bali'\n",
       "\\end{description}\n"
      ],
      "text/markdown": [
       "$nama\n",
       ":   'Denpasar'\n",
       "$propinsi\n",
       ":   'Bali'\n",
       "\n",
       "\n"
      ],
      "text/plain": [
       "$nama\n",
       "[1] \"Denpasar\"\n",
       "\n",
       "$propinsi\n",
       "[1] \"Bali\"\n"
      ]
     },
     "metadata": {},
     "output_type": "display_data"
    },
    {
     "name": "stdout",
     "output_type": "stream",
     "text": [
      "$nama_kota\n",
      "[1] \"Makassar\"\n",
      "\n",
      "$propinsi\n",
      "[1] \"Sulawesi Selatan\"\n",
      "\n",
      "$luas_km2\n",
      "[1] 199.3\n",
      "\n"
     ]
    }
   ],
   "source": [
    "# List disimpan dalam variable dengan nama list_random\n",
    "list_random <- list(2, \"Budi\", 4)\n",
    "\n",
    "# Menampilkan isi list\n",
    "list_random \n",
    "\n",
    "# List disimpan dalam variable dengan nama dati2\n",
    "dati2 <- list(nama = \"Denpasar\", propinsi = \"Bali\")\n",
    "\n",
    "# Menampilkan isi list dati2\n",
    "dati2 \n",
    "\n",
    "# Buat variable kota sesuai permintaan soal\n",
    "kota <- list(nama_kota = \"Makassar\", propinsi = \"Sulawesi Selatan\", luas_km2 = 199.3)\n",
    "# Tampilkan isi variable list kota\n",
    "print(kota)"
   ]
  },
  {
   "cell_type": "markdown",
   "id": "2375b954",
   "metadata": {},
   "source": [
    "## [List Index](https://academy.dqlab.id/main/livecode/1/4/18?pr=0)"
   ]
  },
  {
   "cell_type": "code",
   "execution_count": 7,
   "id": "ec0b1fb4",
   "metadata": {},
   "outputs": [
    {
     "data": {
      "text/html": [
       "<ol>\n",
       "\t<li>'Budi'</li>\n",
       "</ol>\n"
      ],
      "text/latex": [
       "\\begin{enumerate}\n",
       "\\item 'Budi'\n",
       "\\end{enumerate}\n"
      ],
      "text/markdown": [
       "1. 'Budi'\n",
       "\n",
       "\n"
      ],
      "text/plain": [
       "[[1]]\n",
       "[1] \"Budi\"\n"
      ]
     },
     "metadata": {},
     "output_type": "display_data"
    },
    {
     "data": {
      "text/html": [
       "'Budi'"
      ],
      "text/latex": [
       "'Budi'"
      ],
      "text/markdown": [
       "'Budi'"
      ],
      "text/plain": [
       "[1] \"Budi\""
      ]
     },
     "metadata": {},
     "output_type": "display_data"
    },
    {
     "data": {
      "text/html": [
       "<ol>\n",
       "\t<li>'Budi'</li>\n",
       "\t<li>4</li>\n",
       "</ol>\n"
      ],
      "text/latex": [
       "\\begin{enumerate}\n",
       "\\item 'Budi'\n",
       "\\item 4\n",
       "\\end{enumerate}\n"
      ],
      "text/markdown": [
       "1. 'Budi'\n",
       "2. 4\n",
       "\n",
       "\n"
      ],
      "text/plain": [
       "[[1]]\n",
       "[1] \"Budi\"\n",
       "\n",
       "[[2]]\n",
       "[1] 4\n"
      ]
     },
     "metadata": {},
     "output_type": "display_data"
    },
    {
     "data": {
      "text/html": [
       "<ol>\n",
       "\t<li>1</li>\n",
       "</ol>\n"
      ],
      "text/latex": [
       "\\begin{enumerate}\n",
       "\\item 1\n",
       "\\end{enumerate}\n"
      ],
      "text/markdown": [
       "1. 1\n",
       "\n",
       "\n"
      ],
      "text/plain": [
       "[[1]]\n",
       "[1] 1\n"
      ]
     },
     "metadata": {},
     "output_type": "display_data"
    }
   ],
   "source": [
    "# Membentuk list dengan 2 angka dan 1 character\n",
    "list_saya <- list(2, \"Budi\", 4)\n",
    "\n",
    "# Menampilkan index kedua dengan aksesor kurung siku tunggal\n",
    "list_saya[2]\n",
    "\n",
    "# Menampilkan index kedua dengan aksesor kurung siku ganda\n",
    "list_saya[[2]]\n",
    "\n",
    "# Menampilkan index kedua s/d ketiga\n",
    "list_saya[2:3]\n",
    "\n",
    "list_satu <- list(1,\"Online\",TRUE)\n",
    "list_satu[1]"
   ]
  },
  {
   "cell_type": "markdown",
   "id": "c2f2d224",
   "metadata": {},
   "source": [
    "## [Data Frame](https://academy.dqlab.id/main/livecode/1/4/20?pr=0)"
   ]
  },
  {
   "cell_type": "code",
   "execution_count": 8,
   "id": "9fbba2e9",
   "metadata": {},
   "outputs": [
    {
     "data": {
      "text/html": [
       "<table class=\"dataframe\">\n",
       "<caption>A data.frame: 5 × 2</caption>\n",
       "<thead>\n",
       "\t<tr><th scope=col>fakultas</th><th scope=col>jumlah_mahasiswa</th></tr>\n",
       "\t<tr><th scope=col>&lt;chr&gt;</th><th scope=col>&lt;dbl&gt;</th></tr>\n",
       "</thead>\n",
       "<tbody>\n",
       "\t<tr><td>Bisnis         </td><td>260</td></tr>\n",
       "\t<tr><td>D3 Perhotelan  </td><td> 28</td></tr>\n",
       "\t<tr><td>ICT            </td><td>284</td></tr>\n",
       "\t<tr><td>Ilmu Komunikasi</td><td>465</td></tr>\n",
       "\t<tr><td>Seni dan Desain</td><td>735</td></tr>\n",
       "</tbody>\n",
       "</table>\n"
      ],
      "text/latex": [
       "A data.frame: 5 × 2\n",
       "\\begin{tabular}{ll}\n",
       " fakultas & jumlah\\_mahasiswa\\\\\n",
       " <chr> & <dbl>\\\\\n",
       "\\hline\n",
       "\t Bisnis          & 260\\\\\n",
       "\t D3 Perhotelan   &  28\\\\\n",
       "\t ICT             & 284\\\\\n",
       "\t Ilmu Komunikasi & 465\\\\\n",
       "\t Seni dan Desain & 735\\\\\n",
       "\\end{tabular}\n"
      ],
      "text/markdown": [
       "\n",
       "A data.frame: 5 × 2\n",
       "\n",
       "| fakultas &lt;chr&gt; | jumlah_mahasiswa &lt;dbl&gt; |\n",
       "|---|---|\n",
       "| Bisnis          | 260 |\n",
       "| D3 Perhotelan   |  28 |\n",
       "| ICT             | 284 |\n",
       "| Ilmu Komunikasi | 465 |\n",
       "| Seni dan Desain | 735 |\n",
       "\n"
      ],
      "text/plain": [
       "  fakultas        jumlah_mahasiswa\n",
       "1 Bisnis          260             \n",
       "2 D3 Perhotelan    28             \n",
       "3 ICT             284             \n",
       "4 Ilmu Komunikasi 465             \n",
       "5 Seni dan Desain 735             "
      ]
     },
     "metadata": {},
     "output_type": "display_data"
    }
   ],
   "source": [
    "#Membuat dua variable vector\n",
    "fakultas <- c(\"Bisnis\", \"D3 Perhotelan\", \"ICT\", \"Ilmu Komunikasi\", \"Seni dan Desain\")\n",
    "jumlah_mahasiswa <- c(260, 28, 284, 465, 735)\n",
    "\n",
    "#Membuat data frame dari kedua vector di atas\n",
    "info_mahasiswa <- data.frame(fakultas, jumlah_mahasiswa)\n",
    "\n",
    "#Melihat isi data frame\n",
    "info_mahasiswa\n"
   ]
  },
  {
   "cell_type": "markdown",
   "id": "ce06e895",
   "metadata": {},
   "source": [
    "## [Cara Akses Data Frame](https://academy.dqlab.id/main/livecode/1/4/21?pr=0)"
   ]
  },
  {
   "cell_type": "code",
   "execution_count": 9,
   "id": "189104df",
   "metadata": {},
   "outputs": [
    {
     "data": {
      "text/html": [
       "<style>\n",
       ".list-inline {list-style: none; margin:0; padding: 0}\n",
       ".list-inline>li {display: inline-block}\n",
       ".list-inline>li:not(:last-child)::after {content: \"\\00b7\"; padding: 0 .5ex}\n",
       "</style>\n",
       "<ol class=list-inline><li>260</li><li>28</li><li>284</li><li>465</li><li>735</li></ol>\n"
      ],
      "text/latex": [
       "\\begin{enumerate*}\n",
       "\\item 260\n",
       "\\item 28\n",
       "\\item 284\n",
       "\\item 465\n",
       "\\item 735\n",
       "\\end{enumerate*}\n"
      ],
      "text/markdown": [
       "1. 260\n",
       "2. 28\n",
       "3. 284\n",
       "4. 465\n",
       "5. 735\n",
       "\n",
       "\n"
      ],
      "text/plain": [
       "[1] 260  28 284 465 735"
      ]
     },
     "metadata": {},
     "output_type": "display_data"
    },
    {
     "data": {
      "text/html": [
       "<style>\n",
       ".list-inline {list-style: none; margin:0; padding: 0}\n",
       ".list-inline>li {display: inline-block}\n",
       ".list-inline>li:not(:last-child)::after {content: \"\\00b7\"; padding: 0 .5ex}\n",
       "</style>\n",
       "<ol class=list-inline><li>'Bisnis'</li><li>'D3 Perhotelan'</li><li>'ICT'</li><li>'Ilmu Komunikasi'</li><li>'Seni dan Desain'</li></ol>\n"
      ],
      "text/latex": [
       "\\begin{enumerate*}\n",
       "\\item 'Bisnis'\n",
       "\\item 'D3 Perhotelan'\n",
       "\\item 'ICT'\n",
       "\\item 'Ilmu Komunikasi'\n",
       "\\item 'Seni dan Desain'\n",
       "\\end{enumerate*}\n"
      ],
      "text/markdown": [
       "1. 'Bisnis'\n",
       "2. 'D3 Perhotelan'\n",
       "3. 'ICT'\n",
       "4. 'Ilmu Komunikasi'\n",
       "5. 'Seni dan Desain'\n",
       "\n",
       "\n"
      ],
      "text/plain": [
       "[1] \"Bisnis\"          \"D3 Perhotelan\"   \"ICT\"             \"Ilmu Komunikasi\"\n",
       "[5] \"Seni dan Desain\""
      ]
     },
     "metadata": {},
     "output_type": "display_data"
    }
   ],
   "source": [
    "#Membuat tiga variable vector\n",
    "fakultas <- c(\"Bisnis\", \"D3 Perhotelan\", \"ICT\", \"Ilmu Komunikasi\", \"Seni dan Desain\")\n",
    "jumlah_mahasiswa <- c(260, 28, 284, 465, 735)\n",
    "akreditasi <- c(\"A\",\"A\",\"B\",\"A\",\"A\")\n",
    "\n",
    "#Membuat data frame dari kedua vector di atas\n",
    "info_mahasiswa <- data.frame(fakultas, jumlah_mahasiswa, akreditasi)\n",
    "\n",
    "#Menampilkan kolom jumlah_mahasiswa\n",
    "info_mahasiswa$jumlah_mahasiswa\n",
    "\n",
    "#Menampilkan kolom fakultas\n",
    "info_mahasiswa$fakultas"
   ]
  },
  {
   "cell_type": "markdown",
   "id": "7e5c1c5b",
   "metadata": {},
   "source": [
    "# Kesimpulan"
   ]
  },
  {
   "cell_type": "markdown",
   "id": "3276975a",
   "metadata": {},
   "source": [
    "Ringkasan dari tipe-tipe data tersebut adalah sebagai berikut.\n",
    "\n",
    "- Vector hanya bisa diisi dengan salah satu tipe data saja di seluruh elemennya, misalkan angka ataupun teks. Pembuatan vector menggunakan fungsi c, dan bisa diakses dengan accessor dengan angka indeks yang diapit kurung siku. Namun jika berupa named vector, maka indeksnya adalah berupa teks.\n",
    "- List adalah tipe data yang bisa diisi dengan lebih dari satu tipe data di seluruh elemennya, dengan campuran teks dan angka misalnya. Pembuatan list adalah menggunakan fungsi list, dan seperti vector elemen pada list diakses dengan accessor yang diapit kurung siku.\n",
    "- Data Frame adalah tipe data yang terdiri dari satu atau beberapa vector ataupun list. Untuk membuat data frame kita gunakan fungsi  data.frame, dan kita bisa mengakses menggunakan accessor $ diikuti nama kolom, dan juga angka indeks.\n"
   ]
  }
 ],
 "metadata": {
  "kernelspec": {
   "display_name": "R",
   "language": "R",
   "name": "ir"
  },
  "language_info": {
   "codemirror_mode": "r",
   "file_extension": ".r",
   "mimetype": "text/x-r-source",
   "name": "R",
   "pygments_lexer": "r",
   "version": "4.1.0"
  }
 },
 "nbformat": 4,
 "nbformat_minor": 5
}
