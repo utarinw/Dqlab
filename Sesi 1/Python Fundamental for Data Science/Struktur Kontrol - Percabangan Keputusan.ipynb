{
 "cells": [
  {
   "cell_type": "markdown",
   "id": "17eaab70",
   "metadata": {},
   "source": [
    "Dalam membuat suatu keputusan biasanya pasti ada sebuah pilihan. Untuk mewujudkan suatu kerangka berpikir pada suatu pilihan pada bahasa pemrograman biasanya kita menggunakan konsep IF, ELSE. Pada python sebenarnya hampir sama dan tidak ada perbedaan yang terlalu signifikan. Perbedaanya mungkin ada pada\n",
    "\n",
    "Pada praktek kali ini akan dibagi menjadi 3 bagian :\n",
    "\n",
    "- Menggunakan IF yang jika direpresentasikan dengan kata – kata, (Jika, sesuatu memenuhi suatu kondisi, maka lakukan A, jika tidak, tidak terjadi apa-apa)\n",
    "- Menggunakan IF dan ELSE yang jika direpresentasikan dengan kata – kata, (Jika, sesuatu memenuhi suatu kondisi, maka lakukan A, jika tidak, lakukan B)\n",
    "- Menggunakan IF, ELIF dan ELSE. ELIF sendiri sebenarnya sama persis dengan ELSE IF. Namun, pada python disingkat menjadi ELSE IF. (Jika, sesuatu memenuhi suatu kondisi, maka lakukan A, jika tidak, lakukan pengecekan pada kondisi berikutnya, jika memenuhi lakukan B, jika tidak maka lakukan C)"
   ]
  },
  {
   "cell_type": "markdown",
   "id": "3d5b90af",
   "metadata": {},
   "source": [
    "## [IF Statement](https://academy.dqlab.id/main/livecode/45/111/529?pr=0)"
   ]
  },
  {
   "cell_type": "code",
   "execution_count": 1,
   "id": "257efad8",
   "metadata": {},
   "outputs": [],
   "source": [
    "\t\ti = 7 #inisialisasi variable i yang memiliki nilai 10\n",
    "\n",
    "if(i==10): #pengecekan nilai i apakah sama dengan 10\n",
    "    print(\"ini adalah angka 10\") #jika TRUE maka akan mencetak kalimat ini"
   ]
  },
  {
   "cell_type": "markdown",
   "id": "368fb014",
   "metadata": {},
   "source": [
    "## [IF … ELSE …](https://academy.dqlab.id/main/livecode/45/111/530?pr=0)"
   ]
  },
  {
   "cell_type": "code",
   "execution_count": 2,
   "id": "e471253a",
   "metadata": {},
   "outputs": [
    {
     "name": "stdout",
     "output_type": "stream",
     "text": [
      "bukan angka 10\n"
     ]
    }
   ],
   "source": [
    "i = 5 #inisialisasi variable i yang memiliki nilai 10\n",
    "\n",
    "if(i==10): #pengecekan nilai i apakah sama dengan 10\n",
    "    print(\"ini adalah angka 10\") #jika TRUE maka akan mencetak kalimat ini\n",
    "else:\n",
    "    print(\"bukan angka 10\") #jika FALSE akan mencetak kalimat ini\t"
   ]
  },
  {
   "cell_type": "markdown",
   "id": "7f87ad1d",
   "metadata": {},
   "source": [
    "## [IF … ELIF … ELSE ….](https://academy.dqlab.id/main/livecode/45/111/531?pr=0)"
   ]
  },
  {
   "cell_type": "code",
   "execution_count": 3,
   "id": "e7cd84b6",
   "metadata": {},
   "outputs": [
    {
     "name": "stdout",
     "output_type": "stream",
     "text": [
      "lebih kecil dari 5\n"
     ]
    }
   ],
   "source": [
    "i=3\n",
    "\n",
    "if(i==5):\n",
    "     print(\"ini adalah angka 5\")\n",
    "elif(i>5):\n",
    "     print(\"lebih besar dari 5\")\n",
    "else:\n",
    "     print(\"lebih kecil dari 5\")\t\t\t\t"
   ]
  },
  {
   "cell_type": "markdown",
   "id": "c562720c",
   "metadata": {},
   "source": [
    "## [NESTED IF](https://academy.dqlab.id/main/livecode/45/111/532?pr=0)"
   ]
  },
  {
   "cell_type": "code",
   "execution_count": 4,
   "id": "e4075928",
   "metadata": {},
   "outputs": [
    {
     "name": "stdout",
     "output_type": "stream",
     "text": [
      "nilai i kurang dari 7\n",
      "nilai i kurang dari 7 dan kurang dari 3\n"
     ]
    }
   ],
   "source": [
    "i = 2\n",
    "if (i<7):\n",
    "\tprint(\"nilai i kurang dari 7\")\n",
    "\tif(i<3) :\n",
    "  \t\tprint(\"nilai i kurang dari 7 dan kurang dari 3\")\n",
    "\telse:\n",
    "\t\tprint(\"nilai i kurang dari 7 tapi lebih dari 3\")"
   ]
  }
 ],
 "metadata": {
  "kernelspec": {
   "display_name": "Python 3 (ipykernel)",
   "language": "python",
   "name": "python3"
  },
  "language_info": {
   "codemirror_mode": {
    "name": "ipython",
    "version": 3
   },
   "file_extension": ".py",
   "mimetype": "text/x-python",
   "name": "python",
   "nbconvert_exporter": "python",
   "pygments_lexer": "ipython3",
   "version": "3.9.6"
  }
 },
 "nbformat": 4,
 "nbformat_minor": 5
}
