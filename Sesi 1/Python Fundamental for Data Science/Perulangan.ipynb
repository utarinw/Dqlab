{
 "cells": [
  {
   "cell_type": "markdown",
   "id": "906fe92a",
   "metadata": {},
   "source": [
    "# [While](https://academy.dqlab.id/main/livecode/45/113/540?pr=0)"
   ]
  },
  {
   "cell_type": "code",
   "execution_count": 1,
   "id": "9c08ef4e",
   "metadata": {},
   "outputs": [
    {
     "name": "stdout",
     "output_type": "stream",
     "text": [
      "Ini adalah perulangan ke - 0\n",
      "Ini adalah perulangan ke - 1\n",
      "Ini adalah perulangan ke - 2\n",
      "Ini adalah perulangan ke - 3\n",
      "Ini adalah perulangan ke - 4\n",
      "Ini adalah perulangan ke - 5\n"
     ]
    }
   ],
   "source": [
    "j = 0 #nilai awal j =0\n",
    "\n",
    "while j<6: #ketika j kurang dari 6 lakukan perulangan, jika tidak stop perulangan\n",
    "    print(\"Ini adalah perulangan ke -\",j) #lakukan perintah ini ketika perulangan\n",
    "    j=j+1 #setiap kali diakhir perulangan update nilai dengan ditambah 1.\t\t\t\t"
   ]
  },
  {
   "cell_type": "markdown",
   "id": "d040f5e3",
   "metadata": {},
   "source": [
    "## [For (1)](https://academy.dqlab.id/main/livecode/45/113/542?pr=0)"
   ]
  },
  {
   "cell_type": "code",
   "execution_count": 2,
   "id": "f617fdef",
   "metadata": {},
   "outputs": [
    {
     "name": "stdout",
     "output_type": "stream",
     "text": [
      "Ini adalah perulangan ke - 1\n",
      "Ini adalah perulangan ke - 2\n",
      "Ini adalah perulangan ke - 3\n",
      "Ini adalah perulangan ke - 4\n",
      "Ini adalah perulangan ke - 5\n"
     ]
    }
   ],
   "source": [
    "for i in range (1,6): #perulangan for sebagai inisialisasi dari angka 1 hingga angka yang lebih kecil daripada 6.\n",
    "\n",
    "    print(\"Ini adalah perulangan ke -\", i) #perintah jika looping akan tetap berjalan\t\t\t\t"
   ]
  },
  {
   "cell_type": "markdown",
   "id": "5178c037",
   "metadata": {},
   "source": [
    "## [For (2) with access element](https://academy.dqlab.id/main/livecode/45/113/543?pr=0)"
   ]
  },
  {
   "cell_type": "code",
   "execution_count": 3,
   "id": "8253480b",
   "metadata": {},
   "outputs": [
    {
     "name": "stdout",
     "output_type": "stream",
     "text": [
      "Angka ganjil 1\n",
      "Angka genap 2\n",
      "Angka ganjil 3\n",
      "Angka genap 4\n",
      "Angka ganjil 5\n",
      "Angka genap 6\n",
      "Angka ganjil 7\n",
      "Angka genap 8\n",
      "Angka ganjil 9\n",
      "Angka genap 10\n"
     ]
    }
   ],
   "source": [
    "for i in range (1,11):\n",
    "    if(i%2==0):\n",
    "        print(\"Angka genap\",i)\n",
    "    else:\n",
    "         print(\"Angka ganjil\",i)"
   ]
  }
 ],
 "metadata": {
  "kernelspec": {
   "display_name": "Python 3 (ipykernel)",
   "language": "python",
   "name": "python3"
  },
  "language_info": {
   "codemirror_mode": {
    "name": "ipython",
    "version": 3
   },
   "file_extension": ".py",
   "mimetype": "text/x-python",
   "name": "python",
   "nbconvert_exporter": "python",
   "pygments_lexer": "ipython3",
   "version": "3.9.6"
  }
 },
 "nbformat": 4,
 "nbformat_minor": 5
}
