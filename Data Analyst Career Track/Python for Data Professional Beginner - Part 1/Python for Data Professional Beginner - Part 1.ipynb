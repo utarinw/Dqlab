{
 "cells": [
  {
   "cell_type": "markdown",
   "id": "ed58c4af",
   "metadata": {},
   "source": [
    "## [Program \"Hello World](https://academy.dqlab.id/main/livecode/157/283/1247?pr=0)"
   ]
  },
  {
   "cell_type": "code",
   "execution_count": 1,
   "id": "b4339ce0",
   "metadata": {},
   "outputs": [
    {
     "name": "stdout",
     "output_type": "stream",
     "text": [
      "Hello World!\n"
     ]
    }
   ],
   "source": [
    "print(\"Hello World!\")\t"
   ]
  },
  {
   "cell_type": "code",
   "execution_count": 2,
   "id": "d40aa42c",
   "metadata": {},
   "outputs": [
    {
     "name": "stdout",
     "output_type": "stream",
     "text": [
      "Halo Dunia\n",
      "Riset Bahasa Python\n"
     ]
    }
   ],
   "source": [
    "print(\"Halo Dunia\")\n",
    "print(\"Riset Bahasa Python\")"
   ]
  },
  {
   "cell_type": "markdown",
   "id": "6893dc8d",
   "metadata": {},
   "source": [
    "## [Struktur Program Python - Part 1](https://academy.dqlab.id/main/livecode/157/283/1249?pr=0)"
   ]
  },
  {
   "cell_type": "code",
   "execution_count": 3,
   "id": "5e8b1929",
   "metadata": {},
   "outputs": [
    {
     "name": "stdout",
     "output_type": "stream",
     "text": [
      "Belajar Python menyenangkan\n",
      "Halo Dunia\n",
      "Hello World!\n",
      "15\n"
     ]
    }
   ],
   "source": [
    "print(\"Belajar Python menyenangkan\")\n",
    "print(\"Halo Dunia\")\n",
    "print(\"Hello World!\")\n",
    "\n",
    "bilangan1 = 5\n",
    "bilangan2 = 10\n",
    "kalimat1 = \"Belajar Bahasa Python\"\n",
    "\n",
    "print(bilangan1 + bilangan2)"
   ]
  },
  {
   "cell_type": "code",
   "execution_count": 4,
   "id": "5f99436c",
   "metadata": {},
   "outputs": [
    {
     "name": "stdout",
     "output_type": "stream",
     "text": [
      "10\n"
     ]
    }
   ],
   "source": [
    "bilangan1 = 20\n",
    "bilangan2 = 10\n",
    "print(bilangan1 - bilangan2)"
   ]
  },
  {
   "cell_type": "code",
   "execution_count": 5,
   "id": "a6dd1756",
   "metadata": {},
   "outputs": [
    {
     "name": "stdout",
     "output_type": "stream",
     "text": [
      "19800.0\n"
     ]
    }
   ],
   "source": [
    "harga_asli = 20000\n",
    "potongan = 2000\n",
    "harga_setelah_potongan = harga_asli - potongan\n",
    "harga_final = harga_setelah_potongan * 1.1\n",
    "print(harga_final)"
   ]
  },
  {
   "cell_type": "markdown",
   "id": "1b0d2434",
   "metadata": {},
   "source": [
    "## [Struktur Program Python - Part 2](https://academy.dqlab.id/main/livecode/157/283/1249?pr=0)"
   ]
  },
  {
   "cell_type": "code",
   "execution_count": 6,
   "id": "5d793569",
   "metadata": {},
   "outputs": [],
   "source": [
    "# ini contoh comment"
   ]
  },
  {
   "cell_type": "code",
   "execution_count": 7,
   "id": "7ddfff43",
   "metadata": {},
   "outputs": [
    {
     "data": {
      "text/plain": [
       "'\\nPerintah ini diekskusi oleh Python\\ndan perintah ini juga tidak akan dieksekusi\\nperintah ini juga tidak akan dieksekusi\\n'"
      ]
     },
     "execution_count": 7,
     "metadata": {},
     "output_type": "execute_result"
    }
   ],
   "source": [
    "'''\n",
    "Perintah ini diekskusi oleh Python\n",
    "dan perintah ini juga tidak akan dieksekusi\n",
    "perintah ini juga tidak akan dieksekusi\n",
    "'''"
   ]
  },
  {
   "cell_type": "markdown",
   "id": "6102d28b",
   "metadata": {},
   "source": [
    "## [Variabel Python](https://academy.dqlab.id/main/livecode/157/283/1249?pr=0)"
   ]
  },
  {
   "cell_type": "markdown",
   "id": "b600bba7",
   "metadata": {},
   "source": [
    "Tipe Data Dasar: Null, Boolean, Numeric dan Text\n",
    "\n",
    "1. Null Type: Tipe data null dalam Python digunakan untuk menyimpan nilai kosong atau tidak ada yang dinyatakan dengan None.\n",
    "\n",
    "2. Boolean Type: Tipe data boolean atau bool digunakan untuk menyimpan nilai kebenaran (True, False) dari suatu ekspresi logika.\n",
    "\n",
    "3. Numeric Type: Tipe data yang digunakan untuk menyimpan data berupa angka. Terdapat dua macam tipe data numeric, yaitu int untuk menyimpan bilangan bulat (e.g.: 0, 1, 2, 404, -500, -1000) dan float untuk menyimpan bilangan riil (e.g.: 0.5, 1.01, 2.05, 4.04)\n",
    "\n",
    "4. Text Type: Pada Python, tipe data string (str) digunakan untuk menyimpan data teks. Tipe data string dimulai dengan tanda kutip (baik kutip satu/ dua) dan diakhir dengan tanda kutip. Contoh: \"Teks\", \"Contoh teks menggunakan Python\", dan 'Teks pada Python'."
   ]
  },
  {
   "cell_type": "markdown",
   "id": "d0a3d3c9",
   "metadata": {},
   "source": [
    "## [Sequence Type](https://academy.dqlab.id/main/livecode/157/284/1262?pr=0)"
   ]
  },
  {
   "cell_type": "code",
   "execution_count": 8,
   "id": "35592ef0",
   "metadata": {},
   "outputs": [
    {
     "name": "stdout",
     "output_type": "stream",
     "text": [
      "1\n",
      "4.0\n",
      "empat\n"
     ]
    }
   ],
   "source": [
    "contoh_list = [1, 'dua', 3, 4.0, 5]\n",
    "print(contoh_list[0])\n",
    "print(contoh_list[3])\n",
    "\n",
    "contoh_list = [1, 'dua', 3, 4.0, 5]\n",
    "contoh_list[3] = 'empat'\n",
    "print(contoh_list[3])"
   ]
  },
  {
   "cell_type": "code",
   "execution_count": 9,
   "id": "ff9e79c8",
   "metadata": {},
   "outputs": [
    {
     "name": "stdout",
     "output_type": "stream",
     "text": [
      "Januari\n"
     ]
    }
   ],
   "source": [
    "contoh_tuple = ['Januari', 'Februari', 'Maret', 'April']\n",
    "print(contoh_tuple[0])\n",
    "contoh_tuple = ['Januari', 'Februari', 'Maret', 'April']\n",
    "contoh_tuple[0] = 'Desember'"
   ]
  },
  {
   "cell_type": "markdown",
   "id": "83cc0a43",
   "metadata": {},
   "source": [
    "## [Set Type](https://academy.dqlab.id/main/livecode/157/284/1264?pr=0)"
   ]
  },
  {
   "cell_type": "code",
   "execution_count": 10,
   "id": "bf38fc36",
   "metadata": {},
   "outputs": [
    {
     "name": "stdout",
     "output_type": "stream",
     "text": [
      "['Dewi', 'Budi', 'Cici', 'Linda', 'Cici']\n",
      "{'Cici', 'Dewi', 'Budi', 'Linda'}\n",
      "{'Cici', 'Dewi', 'Budi', 'Linda'}\n"
     ]
    }
   ],
   "source": [
    "contoh_list = ['Dewi', 'Budi', 'Cici', 'Linda', 'Cici']\n",
    "print(contoh_list)\n",
    "contoh_set = {'Dewi', 'Budi', 'Cici', 'Linda', 'Cici'}\n",
    "print(contoh_set)\n",
    "contoh_frozen_set = ({'Dewi', 'Budi', 'Cici', 'Linda', 'Cici'})\n",
    "print(contoh_frozen_set)\n"
   ]
  },
  {
   "cell_type": "markdown",
   "id": "d63a4d15",
   "metadata": {},
   "source": [
    "## [Mapping Type](https://academy.dqlab.id/main/livecode/157/284/1265?pr=0)"
   ]
  },
  {
   "cell_type": "code",
   "execution_count": 11,
   "id": "9037b881",
   "metadata": {},
   "outputs": [
    {
     "name": "stdout",
     "output_type": "stream",
     "text": [
      "John Doe\n",
      "Programmer\n"
     ]
    }
   ],
   "source": [
    "person = {'nama' : 'John Doe', 'pekerjaan' : 'Programmer'}\n",
    "print(person['nama'])\n",
    "print(person['pekerjaan'])"
   ]
  },
  {
   "cell_type": "markdown",
   "id": "160dc3fd",
   "metadata": {},
   "source": [
    "## [Tugas Praktek](https://academy.dqlab.id/main/livecode/157/284/1267?pr=0)"
   ]
  },
  {
   "cell_type": "code",
   "execution_count": 12,
   "id": "35f4ef41",
   "metadata": {},
   "outputs": [],
   "source": [
    "sepatu = {\"nama\": \"Sepatu Niko\", \"harga\": 150000, \"diskon\": 30000} \n",
    "baju = {\"nama\": \"Baju Unikloh\", \"harga\": 80000, \"diskon\": 8000} \n",
    "celana = {\"nama\": \"Celana Lepis\", \"harga\": 200000, \"diskon\": 60000} \n",
    "daftar_belanja = [sepatu , baju, celana]"
   ]
  },
  {
   "cell_type": "code",
   "execution_count": 13,
   "id": "7c0885f9",
   "metadata": {},
   "outputs": [
    {
     "name": "stdout",
     "output_type": "stream",
     "text": [
      "365200.0\n"
     ]
    }
   ],
   "source": [
    "sepatu = {\"nama\": \"Sepatu Niko\", \"harga\": 150000, \"diskon\": 30000} \n",
    "baju = {\"nama\": \"Baju Unikloh\", \"harga\": 80000, \"diskon\": 8000} \n",
    "celana = {\"nama\": \"Celana Lepis\", \"harga\": 200000, \"diskon\": 60000}\n",
    "\n",
    "harga_sepatu = sepatu [\"harga\"] - sepatu [\"diskon\"] \n",
    "harga_baju = baju [\"harga\"] -  baju [\"diskon\"]\n",
    "harga_celana = celana [\"harga\"] - celana [\"diskon\"]\n",
    "\n",
    "total_harga = harga_sepatu + harga_baju + harga_celana\n",
    "\n",
    "total_pajak = total_harga * 0.1\n",
    "\n",
    "print(total_harga + total_pajak)"
   ]
  },
  {
   "cell_type": "markdown",
   "id": "ce0ce81d",
   "metadata": {},
   "source": [
    "## [Nilai Prioritas Operator dalam Python – Part 1](https://academy.dqlab.id/main/livecode/157/293/1295?pr=0)"
   ]
  },
  {
   "cell_type": "code",
   "execution_count": 14,
   "id": "fe16c618",
   "metadata": {},
   "outputs": [
    {
     "name": "stdout",
     "output_type": "stream",
     "text": [
      "Kode awal - harga_bayar= 115500.0\n",
      "Penyederhanaan kode - harga_bayar= 115500.0\n"
     ]
    }
   ],
   "source": [
    "# Kode awal\n",
    "total_harga = 150000\n",
    "potongan_harga = 0.3\n",
    "pajak = 0.1 # pajak dalam persen ~ 10%\n",
    "harga_bayar = 1 - 0.3 # baris pertama\n",
    "harga_bayar *= total_harga # baris kedua\n",
    "pajak_bayar = pajak * harga_bayar # baris ketiga\n",
    "harga_bayar += pajak_bayar # baris ke-4\n",
    "print(\"Kode awal - harga_bayar=\", harga_bayar)\n",
    "# Penyederhanaan baris kode dengan menerapkan prioritas operator\n",
    "total_harga = 150000\n",
    "potongan_harga = 0.3\n",
    "pajak = 0.1 # pajak dalam persen ~ 10%\n",
    "harga_bayar = (1 - 0.3) * total_harga #baris pertama \n",
    "harga_bayar += harga_bayar * pajak # baris kedua\n",
    "print(\"Penyederhanaan kode - harga_bayar=\", harga_bayar)"
   ]
  },
  {
   "cell_type": "markdown",
   "id": "c37080a6",
   "metadata": {},
   "source": [
    "## [Tugas Praktek Operator](https://academy.dqlab.id/main/livecode/157/293/1298?pr=0)"
   ]
  },
  {
   "cell_type": "code",
   "execution_count": 15,
   "id": "6b380ebc",
   "metadata": {},
   "outputs": [
    {
     "name": "stdout",
     "output_type": "stream",
     "text": [
      "365200.00000000006\n"
     ]
    }
   ],
   "source": [
    "sepatu = { \"nama\" : \"Sepatu Niko\", \"harga\": 150000, \"diskon\": 30000 }\n",
    "baju = { \"nama\" : \"Baju Unikloh\", \"harga\": 80000, \"diskon\": 8000 }\n",
    "celana = { \"nama\" : \"Celana Lepis\", \"harga\": 200000, \"diskon\": 60000 }\n",
    "harga_sepatu = sepatu[\"harga\"] - sepatu[\"diskon\"]\n",
    "harga_baju = baju[\"harga\"] - baju[\"diskon\"]\n",
    "harga_celana = celana[\"harga\"] - celana[\"diskon\"]\n",
    "total_harga = (harga_sepatu + harga_baju + harga_celana) * 1.1 \n",
    "print(total_harga)"
   ]
  },
  {
   "cell_type": "markdown",
   "id": "b8ee5114",
   "metadata": {},
   "source": [
    "## [Python Conditioning for Decision – Part 1](https://academy.dqlab.id/main/livecode/157/294/1299?pr=0)"
   ]
  },
  {
   "cell_type": "raw",
   "id": "e738b5f4",
   "metadata": {},
   "source": [
    "if conditions:\n",
    "    do_action_1\n",
    "    ...\n",
    "    do_action_n\n",
    "    \n",
    "<conditions> berisikan operator yang mengembalikan nilai kebenaran; \n",
    "ataupun beberapa operator yang mengembalikan nilai kebenaran, yang digabungkan dengan operator logika.  \n",
    "Melalui  sebuah statemen desisi (if statement), \n",
    "<do_action_1> sampai dengan <do_action_n> akan dijalankan saat <conditions> bernilai True."
   ]
  },
  {
   "cell_type": "markdown",
   "id": "200528f0",
   "metadata": {},
   "source": [
    "## [Python Conditioning for Decision – Part 2](https://academy.dqlab.id/main/livecode/157/294/1300?pr=0)"
   ]
  },
  {
   "cell_type": "code",
   "execution_count": 16,
   "id": "42a8b07e",
   "metadata": {},
   "outputs": [
    {
     "name": "stdout",
     "output_type": "stream",
     "text": [
      "x habis dibagi dua\n",
      "x tidak habis dibagi dua, tiga ataupun lima\n"
     ]
    }
   ],
   "source": [
    "x = 4\n",
    "if x % 2 == 0: # jika sisa bagi x dengan 2 sama dengan 0\n",
    "    print(\"x habis dibagi dua\") # statemen aksi lebih menjorok ke dalam\n",
    "x = 7\n",
    "if x % 2 == 0: # jika sisa bagi x dengan 2 sama dengan 0\n",
    "    print(\"x habis dibagi dua\")\n",
    "elif x % 3 == 0: # jika sisa bagi x dengan 3 sama dengan 0\n",
    "    print(\"x habis dibagi tiga\")\n",
    "elif x % 5 == 0: # jika sisa bagi x dengan 5 sama dengan 0\n",
    "    print(\"x habis dibagi lima\")\n",
    "else:\n",
    "    print(\"x tidak habis dibagi dua, tiga ataupun lima\")"
   ]
  },
  {
   "cell_type": "markdown",
   "id": "5b4669b6",
   "metadata": {},
   "source": [
    "## [Python Conditioning for Decision – Part 3](https://academy.dqlab.id/main/livecode/157/294/1301?pr=00)"
   ]
  },
  {
   "cell_type": "code",
   "execution_count": 17,
   "id": "3bd64943",
   "metadata": {},
   "outputs": [
    {
     "name": "stdout",
     "output_type": "stream",
     "text": [
      "Selamat siang!\n"
     ]
    }
   ],
   "source": [
    "jam = 13\n",
    "if jam >= 5 and jam < 12: # selama jam di antara 5 s.d. 12\n",
    "    print(\"Selamat pagi!\")\n",
    "elif jam >= 12 and jam < 17: # selama jam di antara 12 s.d. 17\n",
    "    print(\"Selamat siang!\")\n",
    "elif jam >= 17 and jam < 19: # selama jam di antara 17 s.d. 19\n",
    "    print(\"Selamat sore!\")\n",
    "else: # selain kondisi di atas\n",
    "    print(\"Selamat malam!\")"
   ]
  },
  {
   "cell_type": "markdown",
   "id": "c9c33319",
   "metadata": {},
   "source": [
    "## [Tugas Praktek Python Conditioning](https://academy.dqlab.id/main/livecode/157/294/1302?pr=0)"
   ]
  },
  {
   "cell_type": "code",
   "execution_count": 18,
   "id": "4bf3e7af",
   "metadata": {},
   "outputs": [
    {
     "name": "stdout",
     "output_type": "stream",
     "text": [
      "Tagihan kepada:\n",
      "Mr. Yoyo\n",
      "Selamat pagi, anda harus membayar tagihan sebesar:\n",
      "85000000\n"
     ]
    }
   ],
   "source": [
    "tagihan_ke = 'Mr. Yoyo'\n",
    "warehousing = { 'harga_harian': 1000000, 'total_hari':15 } \n",
    "cleansing = { 'harga_harian': 1500000, 'total_hari':10 } \n",
    "integration = { 'harga_harian':2000000, 'total_hari':15 } \n",
    "transform = { 'harga_harian':2500000, 'total_hari':10 }\n",
    "\n",
    "sub_warehousing = warehousing['harga_harian'] * warehousing['total_hari']\n",
    "\n",
    "sub_cleansing = cleansing['harga_harian'] * cleansing['total_hari']\n",
    "\n",
    "sub_integration = integration['harga_harian'] * integration['total_hari']\n",
    "\n",
    "sub_transform = transform['harga_harian'] * transform['total_hari']\n",
    "\n",
    "total_harga = sub_warehousing + sub_cleansing + sub_integration + sub_transform\n",
    "\n",
    "print(\"Tagihan kepada:\") \n",
    "print(tagihan_ke)\n",
    "print(\"Selamat pagi, anda harus membayar tagihan sebesar:\") \n",
    "print(total_harga)"
   ]
  },
  {
   "cell_type": "markdown",
   "id": "2ed18225",
   "metadata": {},
   "source": [
    "## [Tugas Praktek Python Conditioning](https://academy.dqlab.id/main/livecode/157/294/1303?pr=0)"
   ]
  },
  {
   "cell_type": "code",
   "execution_count": 19,
   "id": "36167db8",
   "metadata": {},
   "outputs": [
    {
     "name": "stdout",
     "output_type": "stream",
     "text": [
      "Tagihan kepada:\n",
      "Mr. Yoyo\n",
      "Selamat siang, anda harus membayar tagihan sebesar:\n",
      "85000000\n"
     ]
    }
   ],
   "source": [
    "jam = 17\n",
    "tagihan_ke = 'Mr. Yoyo'\n",
    "warehousing = { 'harga_harian': 1000000, 'total_hari':15 } \n",
    "cleansing = { 'harga_harian': 1500000, 'total_hari':10 } \n",
    "integration = { 'harga_harian':2000000, 'total_hari':15 } \n",
    "transform = { 'harga_harian':2500000, 'total_hari':10 }\n",
    "sub_warehousing = warehousing['harga_harian']*warehousing['total_hari'] \n",
    "sub_cleansing = cleansing['harga_harian']*cleansing['total_hari'] \n",
    "sub_integration = integration['harga_harian']*integration['total_hari'] \n",
    "sub_transform = transform['harga_harian']*transform['total_hari']\n",
    "total_harga = sub_warehousing+sub_cleansing+sub_integration+sub_transform\n",
    "print(\"Tagihan kepada:\")\n",
    "print(tagihan_ke)\n",
    "\n",
    "if jam > 19 :\n",
    "    print(\"Selamat malam, anda harus membayar tagihan sebesar:\")\n",
    "elif jam > 17 :\n",
    "    print(\"Selamat sore, anda harus membayar tagihan sebesar:\") \n",
    "elif jam > 12 :\n",
    "    print(\"Selamat siang, anda harus membayar tagihan sebesar:\")\n",
    "else:\n",
    "    print(\"Selamat pagi, anda harus membayar tagihan sebesar:\") \n",
    "\n",
    "print(total_harga)"
   ]
  },
  {
   "cell_type": "markdown",
   "id": "6a830663",
   "metadata": {},
   "source": [
    "## [Python while loops – Part 1](https://academy.dqlab.id/main/livecode/157/294/1305?pr=0)"
   ]
  },
  {
   "cell_type": "code",
   "execution_count": 20,
   "id": "232651a2",
   "metadata": {},
   "outputs": [
    {
     "name": "stdout",
     "output_type": "stream",
     "text": [
      "750000\n",
      "750000\n"
     ]
    }
   ],
   "source": [
    "# Tagihan\n",
    "tagihan = [50000, 75000, 125000, 300000, 200000]\n",
    "# Tanpa menggunakan while loop\n",
    "total_tagihan = tagihan[0] + tagihan[1] + tagihan[2] + tagihan[3] + tagihan[4]\n",
    "print(total_tagihan)\n",
    "\n",
    "# Dengan menggunakan while loop\n",
    "i = 0 # sebuah variabel untuk mengakses setiap elemen tagihan satu per satu\n",
    "jumlah_tagihan = len(tagihan) # panjang (jumlah elemen dalam) list tagihan\n",
    "total_tagihan = 0 # mula-mula, set total_tagihan ke 0\n",
    "while i < jumlah_tagihan: # selama nilai i kurang dari jumlah_tagihan\n",
    "    total_tagihan += tagihan[i] # tambahkan tagihan[i] ke total_tagihan\n",
    "    i += 1 # tambahkan nilai i dengan 1 untuk memproses tagihan selanjutnya.\n",
    "print(total_tagihan)"
   ]
  },
  {
   "cell_type": "markdown",
   "id": "888bbc6c",
   "metadata": {},
   "source": [
    "## [Python while loops – Part 2](https://academy.dqlab.id/main/livecode/157/294/1306?pr=0)"
   ]
  },
  {
   "cell_type": "code",
   "execution_count": 21,
   "id": "9f3f61ae",
   "metadata": {},
   "outputs": [
    {
     "name": "stdout",
     "output_type": "stream",
     "text": [
      "terdapat angka minus dalam tagihan, perhitungan dihentikan!\n",
      "-1\n"
     ]
    }
   ],
   "source": [
    "tagihan = [50000, 75000, -150000, 125000, 300000, -50000, 200000]\n",
    "i = 0\n",
    "jumlah_tagihan = len(tagihan)\n",
    "total_tagihan = 0\n",
    "while i < jumlah_tagihan :\n",
    "    # jika terdapat tagihan ke-i yang bernilai minus (di bawah nol),\n",
    "    # pengulangan akan dihentikan\n",
    "    if tagihan[i] < 0:\n",
    "        total_tagihan = -1\n",
    "        print(\"terdapat angka minus dalam tagihan, perhitungan dihentikan!\")\n",
    "        break\n",
    "    total_tagihan += tagihan [i]\n",
    "    i += 1\n",
    "print(total_tagihan)"
   ]
  },
  {
   "cell_type": "markdown",
   "id": "d513c3d0",
   "metadata": {},
   "source": [
    "## [Python while loops – Part 3](https://academy.dqlab.id/main/livecode/157/294/1307?pr=0)"
   ]
  },
  {
   "cell_type": "code",
   "execution_count": 22,
   "id": "3293d666",
   "metadata": {},
   "outputs": [
    {
     "name": "stdout",
     "output_type": "stream",
     "text": [
      "750000\n"
     ]
    }
   ],
   "source": [
    "tagihan = [50000, 75000, -150000, 125000, 300000, -50000, 200000]\n",
    "i = 0\n",
    "jumlah_tagihan = len(tagihan)\n",
    "total_tagihan = 0\n",
    "while i < jumlah_tagihan:\n",
    "    # jika terdapat tagihan ke-i yang bernilai minus (di bawah nol),\n",
    "    # abaikan tagihan ke-i dan lanjutkan ke tagihan berikutnya\n",
    "    if tagihan[i] < 0:\n",
    "        i += 1\n",
    "        continue\n",
    "    total_tagihan += tagihan [i]\n",
    "    i += 1\n",
    "print(total_tagihan)"
   ]
  },
  {
   "cell_type": "markdown",
   "id": "86560fa0",
   "metadata": {},
   "source": [
    "## [Python for loops – Part 1](https://academy.dqlab.id/main/livecode/157/294/1308?pr=0)"
   ]
  },
  {
   "cell_type": "code",
   "execution_count": 23,
   "id": "563d2822",
   "metadata": {},
   "outputs": [
    {
     "name": "stdout",
     "output_type": "stream",
     "text": [
      "550000\n"
     ]
    }
   ],
   "source": [
    "list_tagihan = [50000, 75000, -150000, 125000, 300000, -50000, 200000]\n",
    "total_tagihan = 0\n",
    "for tagihan in list_tagihan: # untuk setiap tagihan dalam list_tagihan\n",
    "    total_tagihan += tagihan # tambahkan tagihan ke total_tagihan\n",
    "print(total_tagihan)\n"
   ]
  },
  {
   "cell_type": "markdown",
   "id": "6a781f89",
   "metadata": {},
   "source": [
    "## [Python for loops – Part 2](https://academy.dqlab.id/main/livecode/157/294/1309?pr=0)"
   ]
  },
  {
   "cell_type": "code",
   "execution_count": 24,
   "id": "b6d8aee6",
   "metadata": {},
   "outputs": [
    {
     "name": "stdout",
     "output_type": "stream",
     "text": [
      "terdapat angka minus dalam tagihan, perhitungan dihentikan!\n",
      "125000\n"
     ]
    }
   ],
   "source": [
    "list_tagihan = [50000, 75000, -150000, 125000, 300000, -50000, 200000]\n",
    "total_tagihan = 0\n",
    "for tagihan in list_tagihan:\n",
    "    if tagihan < 0:\n",
    "        print(\"terdapat angka minus dalam tagihan, perhitungan dihentikan!\")\n",
    "        break\n",
    "    total_tagihan += tagihan\n",
    "print(total_tagihan)"
   ]
  },
  {
   "cell_type": "markdown",
   "id": "8f780d41",
   "metadata": {},
   "source": [
    "## [Python for loops – Part 3](https://academy.dqlab.id/main/livecode/157/294/1310?pr=0)"
   ]
  },
  {
   "cell_type": "code",
   "execution_count": 25,
   "id": "218134c6",
   "metadata": {},
   "outputs": [
    {
     "name": "stdout",
     "output_type": "stream",
     "text": [
      "Apel Malang\n",
      "Duku Malang\n",
      "Jeruk Malang\n",
      "Apel Palembang\n",
      "Duku Palembang\n",
      "Jeruk Palembang\n",
      "Apel Medan\n",
      "Duku Medan\n",
      "Jeruk Medan\n"
     ]
    }
   ],
   "source": [
    "list_daerah = ['Malang', 'Palembang', 'Medan']\n",
    "list_buah = ['Apel', 'Duku', 'Jeruk']\n",
    "for nama_daerah in list_daerah:\n",
    "    for nama_buah in list_buah :\n",
    "        print(nama_buah+\" \"+nama_daerah)"
   ]
  },
  {
   "cell_type": "markdown",
   "id": "6e0b0f58",
   "metadata": {},
   "source": [
    "## [Tugas Praktek Looping](https://academy.dqlab.id/main/livecode/157/294/1311?pr=0)"
   ]
  },
  {
   "cell_type": "code",
   "execution_count": 26,
   "id": "bc2b6995",
   "metadata": {},
   "outputs": [
    {
     "name": "stdout",
     "output_type": "stream",
     "text": [
      "12500000\n",
      "65000000\n"
     ]
    }
   ],
   "source": [
    "list_cash_flow = [\n",
    "2500000, 5000000, -1000000, -2500000, 5000000, 10000000,\n",
    "-5000000, 7500000, 10000000, -1500000, 25000000, -2500000\n",
    "]\n",
    "total_pengeluaran, total_pemasukan = 0, 0\n",
    "for dana in list_cash_flow: \n",
    "    if dana > 0:\n",
    "        total_pemasukan += dana \n",
    "    else:\n",
    "        total_pengeluaran += dana\n",
    "total_pengeluaran *= -1\n",
    "print(total_pengeluaran) \n",
    "print(total_pemasukan)"
   ]
  },
  {
   "cell_type": "markdown",
   "id": "431be719",
   "metadata": {},
   "source": [
    "## [Ekspedisi Pamanku](https://academy.dqlab.id/main/livecode/157/295/1313?pr=0)"
   ]
  },
  {
   "cell_type": "code",
   "execution_count": 27,
   "id": "4156f778",
   "metadata": {},
   "outputs": [
    {
     "name": "stdout",
     "output_type": "stream",
     "text": [
      "163500000\n"
     ]
    }
   ],
   "source": [
    "# Data\n",
    "uang_jalan = 1500000\n",
    "jumlah_hari = 31\n",
    "list_plat_nomor = [8993, 2198, 2501, 2735, 3772, 4837, 9152]\n",
    "# Pengecekan kendaraan dengan nomor pelat ganjil atau genap \n",
    "kendaraan_genap = 0\n",
    "kendaraan_ganjil = 0 \n",
    "for plat_nomor in list_plat_nomor:\n",
    "    if plat_nomor % 2 == 0:\n",
    "        kendaraan_genap += 1 \n",
    "    else:\n",
    "        kendaraan_ganjil += 1\n",
    "# Total pengeluaran untuk kendaraan dengan nomor pelat ganjil\n",
    "# dan genap dalam 1 bulan\n",
    "i = 1\n",
    "total_pengeluaran = 0\n",
    "while i<= jumlah_hari:\n",
    "    if i % 2 == 0:\n",
    "        total_pengeluaran += (kendaraan_genap * uang_jalan) \n",
    "    else:\n",
    "        total_pengeluaran += (kendaraan_ganjil * uang_jalan) \n",
    "    i += 1\n",
    "# Cetak total pengeluaran\n",
    "print(total_pengeluaran)"
   ]
  }
 ],
 "metadata": {
  "kernelspec": {
   "display_name": "Python 3 (ipykernel)",
   "language": "python",
   "name": "python3"
  },
  "language_info": {
   "codemirror_mode": {
    "name": "ipython",
    "version": 3
   },
   "file_extension": ".py",
   "mimetype": "text/x-python",
   "name": "python",
   "nbconvert_exporter": "python",
   "pygments_lexer": "ipython3",
   "version": "3.9.6"
  }
 },
 "nbformat": 4,
 "nbformat_minor": 5
}
