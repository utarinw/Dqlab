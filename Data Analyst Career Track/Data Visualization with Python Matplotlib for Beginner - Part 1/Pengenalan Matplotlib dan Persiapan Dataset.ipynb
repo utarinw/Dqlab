{
 "cells": [
  {
   "cell_type": "markdown",
   "id": "600bf4d1",
   "metadata": {},
   "source": [
    "## [Pengenalan Dataset](https://academy.dqlab.id/main/livecode/164/312/1447?pr=0)"
   ]
  },
  {
   "cell_type": "code",
   "execution_count": 1,
   "id": "d23f4e3b",
   "metadata": {},
   "outputs": [
    {
     "name": "stdout",
     "output_type": "stream",
     "text": [
      "Ukuran dataset : 5000 baris dan 9 kolom\n",
      "\n",
      "Lima data teratas:\n",
      "   order_id  order_date  customer_id             city     province product_id  \\\n",
      "0   1703458  2019-10-17        14004  Jakarta Selatan  DKI Jakarta      P1910   \n",
      "1   1706815  2019-10-24        17220  Jakarta Selatan  DKI Jakarta      P2934   \n",
      "2   1710718  2019-11-03        16518    Jakarta Utara  DKI Jakarta      P0908   \n",
      "3   1683592  2019-08-19        16364    Jakarta Barat  DKI Jakarta      P0128   \n",
      "4   1702573  2019-10-16        15696    Jakarta Timur  DKI Jakarta      P2968   \n",
      "\n",
      "     brand  quantity  item_price  \n",
      "0  BRAND_J        10      740000  \n",
      "1  BRAND_R         2      604000  \n",
      "2  BRAND_C         8     1045000  \n",
      "3  BRAND_A         4      205000  \n",
      "4  BRAND_R         2     4475000  \n"
     ]
    }
   ],
   "source": [
    "import pandas as pd\n",
    "dataset = pd.read_csv('https://storage.googleapis.com/dqlab-dataset/retail_raw_reduced.csv')\n",
    "print('Ukuran dataset : %d baris dan %d kolom\\n' %dataset.shape)\n",
    "print('Lima data teratas:')\n",
    "print(dataset.head())"
   ]
  },
  {
   "cell_type": "markdown",
   "id": "fb5e06b1",
   "metadata": {},
   "source": [
    "- order_id : ID dari order/transaksi, 1 transaksi bisa terdiri dari beberapa produk, tetapi hanya dilakukan oleh 1 customer\n",
    "- order_date : tanggal terjadinya transaksi\n",
    "- customer_id : ID dari pembeli, bisa jadi dalam satu hari, 1 customer melakukan transaksi beberapa kali\n",
    "- city : kota tempat toko terjadinya transaksi\n",
    "- province : provinsi (berdasarkan city)\n",
    "- product_id : ID dari suatu product yang dibeli\n",
    "- brand : brand/merk dari product. Suatu product yang sama pasti memiliki brand yang sama\n",
    "- quantity : Kuantitas / banyaknya product yang dibeli\n",
    "- item_price : Harga dari 1 product (dalam Rupiah). Suatu product yang sama, bisa jadi memiliki harga yang berbeda saat dibeli"
   ]
  },
  {
   "cell_type": "markdown",
   "id": "8e3787a1",
   "metadata": {},
   "source": [
    "## [Penambahan Kolom Order Month pada Dataset](https://academy.dqlab.id/main/livecode/164/312/1450?pr=0)"
   ]
  },
  {
   "cell_type": "code",
   "execution_count": 2,
   "id": "08747025",
   "metadata": {},
   "outputs": [
    {
     "name": "stdout",
     "output_type": "stream",
     "text": [
      "   order_id  order_date  customer_id             city     province product_id  \\\n",
      "0   1703458  2019-10-17        14004  Jakarta Selatan  DKI Jakarta      P1910   \n",
      "1   1706815  2019-10-24        17220  Jakarta Selatan  DKI Jakarta      P2934   \n",
      "2   1710718  2019-11-03        16518    Jakarta Utara  DKI Jakarta      P0908   \n",
      "3   1683592  2019-08-19        16364    Jakarta Barat  DKI Jakarta      P0128   \n",
      "4   1702573  2019-10-16        15696    Jakarta Timur  DKI Jakarta      P2968   \n",
      "\n",
      "     brand  quantity  item_price order_month  \n",
      "0  BRAND_J        10      740000     2019-10  \n",
      "1  BRAND_R         2      604000     2019-10  \n",
      "2  BRAND_C         8     1045000     2019-11  \n",
      "3  BRAND_A         4      205000     2019-08  \n",
      "4  BRAND_R         2     4475000     2019-10  \n"
     ]
    }
   ],
   "source": [
    "import pandas as pd\n",
    "import datetime\n",
    "\n",
    "dataset = pd.read_csv('https://storage.googleapis.com/dqlab-dataset/retail_raw_reduced.csv')\n",
    "\n",
    "dataset['order_month'] = dataset['order_date'].apply(lambda x:datetime.datetime.strptime(x, \"%Y-%m-%d\").strftime('%Y-%m'))\n",
    "print(dataset.head())"
   ]
  },
  {
   "cell_type": "markdown",
   "id": "ebc56234",
   "metadata": {},
   "source": [
    "## [Penambahan Kolom GMV pada Dataset](https://academy.dqlab.id/main/livecode/164/312/1451?pr=0)"
   ]
  },
  {
   "cell_type": "code",
   "execution_count": 3,
   "id": "96f907ec",
   "metadata": {},
   "outputs": [
    {
     "name": "stdout",
     "output_type": "stream",
     "text": [
      "Ukuran dataset: 5000 baris dan 11 kolom\n",
      "\n",
      "Lima data teratas:\n",
      "   order_id  order_date  customer_id             city     province product_id  \\\n",
      "0   1703458  2019-10-17        14004  Jakarta Selatan  DKI Jakarta      P1910   \n",
      "1   1706815  2019-10-24        17220  Jakarta Selatan  DKI Jakarta      P2934   \n",
      "2   1710718  2019-11-03        16518    Jakarta Utara  DKI Jakarta      P0908   \n",
      "3   1683592  2019-08-19        16364    Jakarta Barat  DKI Jakarta      P0128   \n",
      "4   1702573  2019-10-16        15696    Jakarta Timur  DKI Jakarta      P2968   \n",
      "\n",
      "     brand  quantity  item_price order_month      gmv  \n",
      "0  BRAND_J        10      740000     2019-10  7400000  \n",
      "1  BRAND_R         2      604000     2019-10  1208000  \n",
      "2  BRAND_C         8     1045000     2019-11  8360000  \n",
      "3  BRAND_A         4      205000     2019-08   820000  \n",
      "4  BRAND_R         2     4475000     2019-10  8950000  \n"
     ]
    }
   ],
   "source": [
    "import pandas as pd\n",
    "import datetime\n",
    "\n",
    "dataset = pd.read_csv('https://storage.googleapis.com/dqlab-dataset/retail_raw_reduced.csv')\n",
    "dataset['order_month'] = dataset['order_date'].apply(lambda x: datetime.datetime.strptime(x, \"%Y-%m-%d\").strftime('%Y-%m'))\n",
    "\n",
    "dataset['gmv'] = dataset['item_price']*dataset['quantity']\n",
    "print('Ukuran dataset: %d baris dan %d kolom\\n' % dataset.shape)\n",
    "print('Lima data teratas:')\n",
    "print(dataset.head())"
   ]
  }
 ],
 "metadata": {
  "kernelspec": {
   "display_name": "Python 3 (ipykernel)",
   "language": "python",
   "name": "python3"
  },
  "language_info": {
   "codemirror_mode": {
    "name": "ipython",
    "version": 3
   },
   "file_extension": ".py",
   "mimetype": "text/x-python",
   "name": "python",
   "nbconvert_exporter": "python",
   "pygments_lexer": "ipython3",
   "version": "3.9.6"
  }
 },
 "nbformat": 4,
 "nbformat_minor": 5
}
